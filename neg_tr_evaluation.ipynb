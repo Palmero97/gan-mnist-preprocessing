{
 "cells": [
  {
   "cell_type": "markdown",
   "metadata": {
    "colab_type": "text",
    "id": "Vq2YYYF4zhNM"
   },
   "source": [
    "# COLOR INVERSION TRANSFORMATION\n",
    "## Colab set-up\n"
   ]
  },
  {
   "cell_type": "code",
   "execution_count": null,
   "metadata": {
    "colab": {
     "base_uri": "https://localhost:8080/",
     "height": 173
    },
    "colab_type": "code",
    "executionInfo": {
     "elapsed": 31126,
     "status": "ok",
     "timestamp": 1587723958602,
     "user": {
      "displayName": "Santi Palmero Muñoz",
      "photoUrl": "",
      "userId": "16691478082819066260"
     },
     "user_tz": -120
    },
    "id": "v82Nbt0-zQWj",
    "outputId": "58b8aabe-1927-48e7-b187-76993b3e9055"
   },
   "outputs": [],
   "source": [
    "# Mount Google Drive\n",
    "from google.colab import drive \n",
    "\n",
    "ROOT = \"/content/drive\"   \n",
    "print(ROOT)                 \n",
    "\n",
    "drive.mount(ROOT)           \n",
    "\n",
    "import os\n",
    "folder_path = --- # FILL\n",
    "os.chdir(folder_path)"
   ]
  },
  {
   "cell_type": "markdown",
   "metadata": {
    "colab_type": "text",
    "id": "zy2KA2QDQ8nL"
   },
   "source": [
    "## Imports\n"
   ]
  },
  {
   "cell_type": "code",
   "execution_count": null,
   "metadata": {
    "colab": {},
    "colab_type": "code",
    "id": "BmSSiKK308Bg"
   },
   "outputs": [],
   "source": [
    "# Import of the custom modules\n",
    "import imp \n",
    "models_pytorch = imp.new_module('models_pytorch')\n",
    "exec(open(\"./models_pytorch.py\").read(), models_pytorch.__dict__)"
   ]
  },
  {
   "cell_type": "code",
   "execution_count": null,
   "metadata": {
    "colab": {},
    "colab_type": "code",
    "id": "9d3MaVWC1xqW"
   },
   "outputs": [],
   "source": [
    "import copy\n",
    "import numpy as np\n",
    "import torch\n",
    "import matplotlib.pyplot as plt\n",
    "\n",
    "from models_pytorch import ExtendedMultiLR, ExtendedMLP, ExtendedLenet5\n",
    "from os.path import join  \n",
    "from torch import nn\n",
    "from torch import optim\n",
    "from torchvision import datasets, transforms\n",
    "from torch.utils.data import Dataset, DataLoader\n",
    "from PIL import Image"
   ]
  },
  {
   "cell_type": "code",
   "execution_count": null,
   "metadata": {
    "colab": {},
    "colab_type": "code",
    "id": "F7WUZKTAw3OO"
   },
   "outputs": [],
   "source": [
    "def eval_model_performance(model, trainloader, validloader, testloader):\n",
    "\n",
    "    train_performance = model.eval_performance(trainloader)\n",
    "    validation_performance = model.eval_performance(validloader)\n",
    "    test_performance = model.eval_performance(testloader)\n",
    "\n",
    "    print(\"Train Accuracy %.3f\" % (round(train_performance.item(), 3)))\n",
    "    print(\"Validation Accuracy %.3f\" %(round(validation_performance.item(), 3)))\n",
    "    print(\"Test Accuracy %.3f\" %(round(test_performance.item(), 3)))\n",
    "\n",
    "    plt.plot(model.loss_during_training, '-b', \n",
    "            label='Training Cross Entropy Loss')\n",
    "    plt.plot(model.valid_loss_during_training, '-r', \n",
    "            label='Validation Cross Entropy Loss')\n",
    "    plt.xlabel('Iterations')\n",
    "    plt.ylabel('Loss')\n",
    "    plt.legend()"
   ]
  },
  {
   "cell_type": "markdown",
   "metadata": {
    "colab_type": "text",
    "id": "iw3KpH2c1cpT"
   },
   "source": [
    "## Original MNIST evaluation\n"
   ]
  },
  {
   "cell_type": "code",
   "execution_count": null,
   "metadata": {
    "colab": {
     "base_uri": "https://localhost:8080/",
     "height": 349,
     "referenced_widgets": [
      "6317fe64d70a4d1cad303c3ff44a4c0a",
      "02bf314ac8cc49d69b72fcf61a43d053",
      "1692f4095f8a4f46852143751ef2192b",
      "103d3cbb345247609edb0ea9083421a4",
      "89c24c4f1c99440dbdcbcd981524b396",
      "ca37239ca92a4cea97f2fb200c1fac5a",
      "273f11c0c7be4ea8b04327014db02dff",
      "024edd00a86e4808bc2bf447b079165a",
      "b07a3740c27146b5a914155e04642068",
      "615a5304331c4f1d82edf0a441f7736c",
      "cb8730c7735c4cafb939e53a23269277",
      "f513e45c4df94eb589e303701cc7aac2",
      "c5a0ce18f1d5443bb741e992cf5c5923",
      "1402693516a546d9853c3f1de2bf8778",
      "65995cd73d4e4a31a979527ad40028ec",
      "c18ce7a8a2234dc9a921d7e99346c975",
      "57142da387cc46a9bddf1c708a8102d4",
      "077a72736cfb4457ae7a27c7477cb786",
      "966fb234802b412cb9020d2f02e2a254",
      "e6fc056ebbee4383a0fc1d15f9e43b98",
      "273593305a584c4c9dbdb89fb1088e09",
      "1bf8035b1dcc406d8fcd64e306faf107",
      "878a3cbf9f264714af297dc3792823dc",
      "001dd4db44624da095910c4275027921",
      "30b0f52c8c924ca5af1e7e4078ea6847",
      "bb0a17f8a0084c67b186e1d80cd61114",
      "55bee7df9ee0441db8653280278dce72",
      "68e3014b707e46d7b443d7396ac12255",
      "2d2f4950ef054d4f8031bfd29caf8857",
      "8372fc9b0eff43a2a2e4e8376e63d0cd",
      "9aef4f15cbe14d4581a4fddae6429b48",
      "11f3b93a7edb4dd5b35930132affa670"
     ]
    },
    "colab_type": "code",
    "executionInfo": {
     "elapsed": 7729,
     "status": "ok",
     "timestamp": 1587723989320,
     "user": {
      "displayName": "Santi Palmero Muñoz",
      "photoUrl": "",
      "userId": "16691478082819066260"
     },
     "user_tz": -120
    },
    "id": "snM_8uRxQvN5",
    "outputId": "bc4815b7-05df-4309-84f1-aef519c5d316"
   },
   "outputs": [
    {
     "name": "stdout",
     "output_type": "stream",
     "text": [
      "Downloading http://yann.lecun.com/exdb/mnist/train-images-idx3-ubyte.gz to /root/.pytorch/MNIST_data/MNIST/raw/train-images-idx3-ubyte.gz\n"
     ]
    },
    {
     "data": {
      "application/vnd.jupyter.widget-view+json": {
       "model_id": "6317fe64d70a4d1cad303c3ff44a4c0a",
       "version_major": 2,
       "version_minor": 0
      },
      "text/plain": [
       "HBox(children=(IntProgress(value=1, bar_style='info', max=1), HTML(value='')))"
      ]
     },
     "metadata": {
      "tags": []
     },
     "output_type": "display_data"
    },
    {
     "name": "stdout",
     "output_type": "stream",
     "text": [
      "Extracting /root/.pytorch/MNIST_data/MNIST/raw/train-images-idx3-ubyte.gz to /root/.pytorch/MNIST_data/MNIST/raw\n",
      "Downloading http://yann.lecun.com/exdb/mnist/train-labels-idx1-ubyte.gz to /root/.pytorch/MNIST_data/MNIST/raw/train-labels-idx1-ubyte.gz\n"
     ]
    },
    {
     "data": {
      "application/vnd.jupyter.widget-view+json": {
       "model_id": "b07a3740c27146b5a914155e04642068",
       "version_major": 2,
       "version_minor": 0
      },
      "text/plain": [
       "HBox(children=(IntProgress(value=1, bar_style='info', max=1), HTML(value='')))"
      ]
     },
     "metadata": {
      "tags": []
     },
     "output_type": "display_data"
    },
    {
     "name": "stdout",
     "output_type": "stream",
     "text": [
      "Extracting /root/.pytorch/MNIST_data/MNIST/raw/train-labels-idx1-ubyte.gz to /root/.pytorch/MNIST_data/MNIST/raw\n",
      "Downloading http://yann.lecun.com/exdb/mnist/t10k-images-idx3-ubyte.gz to /root/.pytorch/MNIST_data/MNIST/raw/t10k-images-idx3-ubyte.gz\n"
     ]
    },
    {
     "data": {
      "application/vnd.jupyter.widget-view+json": {
       "model_id": "57142da387cc46a9bddf1c708a8102d4",
       "version_major": 2,
       "version_minor": 0
      },
      "text/plain": [
       "HBox(children=(IntProgress(value=1, bar_style='info', max=1), HTML(value='')))"
      ]
     },
     "metadata": {
      "tags": []
     },
     "output_type": "display_data"
    },
    {
     "name": "stdout",
     "output_type": "stream",
     "text": [
      "Extracting /root/.pytorch/MNIST_data/MNIST/raw/t10k-images-idx3-ubyte.gz to /root/.pytorch/MNIST_data/MNIST/raw\n",
      "Downloading http://yann.lecun.com/exdb/mnist/t10k-labels-idx1-ubyte.gz to /root/.pytorch/MNIST_data/MNIST/raw/t10k-labels-idx1-ubyte.gz\n",
      "\n",
      "\n"
     ]
    },
    {
     "data": {
      "application/vnd.jupyter.widget-view+json": {
       "model_id": "30b0f52c8c924ca5af1e7e4078ea6847",
       "version_major": 2,
       "version_minor": 0
      },
      "text/plain": [
       "HBox(children=(IntProgress(value=1, bar_style='info', max=1), HTML(value='')))"
      ]
     },
     "metadata": {
      "tags": []
     },
     "output_type": "display_data"
    },
    {
     "name": "stdout",
     "output_type": "stream",
     "text": [
      "Extracting /root/.pytorch/MNIST_data/MNIST/raw/t10k-labels-idx1-ubyte.gz to /root/.pytorch/MNIST_data/MNIST/raw\n",
      "Processing...\n",
      "Done!\n"
     ]
    }
   ],
   "source": [
    "# Define a transform to normalize the data\n",
    "transform = transforms.Compose([transforms.ToTensor(),\n",
    "                              transforms.Normalize((0.5,), (0.5,)),\n",
    "                              ])\n",
    "\n",
    "# Download and load the training  data\n",
    "trainset = datasets.MNIST('~/.pytorch/MNIST_data/', download=True, train=True, \n",
    "                          transform=transform)\n",
    "trainloader = torch.utils.data.DataLoader(trainset, batch_size=64, shuffle=True)\n",
    "\n",
    "# Download and load the test data\n",
    "testset = datasets.MNIST('~/.pytorch/MNIST_data/', download=True, train=False, \n",
    "                         transform=transform)\n",
    "testloader = torch.utils.data.DataLoader(testset, batch_size=64, shuffle=True)\n",
    "\n",
    "# Splitting training dataset into train and validation\n",
    "last_train_index = int(len(trainloader.dataset.data) * 0.8)\n",
    "\n",
    "validloader = copy.deepcopy(trainloader)  # Creates a copy of the object \n",
    "\n",
    "trainloader.dataset.data = trainloader.dataset.data[:last_train_index,:,:]\n",
    "trainloader.dataset.targets = trainloader.dataset.targets[:last_train_index]\n",
    "\n",
    "validloader.dataset.data = validloader.dataset.data[last_train_index:,:,:]\n",
    "validloader.dataset.targets = validloader.dataset.targets[last_train_index:]"
   ]
  },
  {
   "cell_type": "code",
   "execution_count": null,
   "metadata": {
    "colab": {
     "base_uri": "https://localhost:8080/",
     "height": 430
    },
    "colab_type": "code",
    "executionInfo": {
     "elapsed": 3757,
     "status": "ok",
     "timestamp": 1587724011007,
     "user": {
      "displayName": "Santi Palmero Muñoz",
      "photoUrl": "",
      "userId": "16691478082819066260"
     },
     "user_tz": -120
    },
    "id": "OQbH1xg9WrS6",
    "outputId": "8f8adf92-4917-46a0-83a7-09cc2d64e9d5"
   },
   "outputs": [
    {
     "data": {
      "image/png": "[encoded data removed]",
      "text/plain": [
       "<Figure size 432x432 with 16 Axes>"
      ]
     },
     "metadata": {
      "needs_background": "light",
      "tags": []
     },
     "output_type": "display_data"
    }
   ],
   "source": [
    "# Create iterable of train loader and load a chunk\n",
    "dataiter = iter(trainloader)\n",
    "images, labels = dataiter.next()\n",
    "\n",
    "# Plots several example in a grid nrows*ncols\n",
    "nrows = 4\n",
    "ncols = 4\n",
    "num_samples_drawn = int(nrows * ncols)\n",
    "\n",
    "fig, ax = plt.subplots(nrows, ncols, figsize=(6, 6))\n",
    "\n",
    "i = 0\n",
    "for row in range(nrows):\n",
    "    for col in range(ncols):\n",
    "        img = images[i].numpy().reshape([28,28])  \n",
    "        ax[row][col].imshow(img, cmap=\"Greys\")\n",
    "        fig.show()\n",
    "        ax[row][col].set_title(\"label: {}\".format(labels[i]))\n",
    "        i += 1\n",
    "fig.tight_layout(rect=[0, 0.03, 1, 0.95]) # fix for suptitle \n",
    "plt.suptitle(\"Original MNIST train set\", fontsize=14)\n",
    "plt.show()"
   ]
  },
  {
   "cell_type": "markdown",
   "metadata": {
    "colab_type": "text",
    "id": "TtVzdk6_Ruxr"
   },
   "source": [
    "### Multi LR"
   ]
  },
  {
   "cell_type": "code",
   "execution_count": null,
   "metadata": {
    "colab": {
     "base_uri": "https://localhost:8080/",
     "height": 102
    },
    "colab_type": "code",
    "executionInfo": {
     "elapsed": 876,
     "status": "ok",
     "timestamp": 1587724033061,
     "user": {
      "displayName": "Santi Palmero Muñoz",
      "photoUrl": "",
      "userId": "16691478082819066260"
     },
     "user_tz": -120
    },
    "id": "RNfpIph_RwRa",
    "outputId": "2747ba5a-b2f6-4b99-fd0f-8004a5dc1e44"
   },
   "outputs": [
    {
     "name": "stdout",
     "output_type": "stream",
     "text": [
      "ExtendedMultiLR(\n",
      "  (output): Linear(in_features=784, out_features=10, bias=True)\n",
      "  (logsoftmax): LogSoftmax()\n",
      "  (criterion): NLLLoss()\n",
      ")\n"
     ]
    }
   ],
   "source": [
    "clean_multi_lr = ExtendedMultiLR(dimx=784, nlabels=10, epochs=10, lr=1e-3)\n",
    "print(clean_multi_lr)"
   ]
  },
  {
   "cell_type": "code",
   "execution_count": null,
   "metadata": {
    "colab": {
     "base_uri": "https://localhost:8080/",
     "height": 187
    },
    "colab_type": "code",
    "executionInfo": {
     "elapsed": 120333,
     "status": "ok",
     "timestamp": 1587724156072,
     "user": {
      "displayName": "Santi Palmero Muñoz",
      "photoUrl": "",
      "userId": "16691478082819066260"
     },
     "user_tz": -120
    },
    "id": "R05ArdMeSB4C",
    "outputId": "0fed6c65-4534-419b-e675-415efa653243"
   },
   "outputs": [
    {
     "name": "stdout",
     "output_type": "stream",
     "text": [
      "Epoch 0. Training loss: 0.493716, Validation loss: 0.332967, Time per epoch: 12.191923 seconds\n",
      "Epoch 1. Training loss: 0.334840, Validation loss: 0.302949, Time per epoch: 12.461849 seconds\n",
      "Epoch 2. Training loss: 0.316788, Validation loss: 0.311277, Time per epoch: 11.945605 seconds\n",
      "Epoch 3. Training loss: 0.309200, Validation loss: 0.285174, Time per epoch: 11.912975 seconds\n",
      "Epoch 4. Training loss: 0.301013, Validation loss: 0.283251, Time per epoch: 11.561815 seconds\n",
      "Epoch 5. Training loss: 0.295289, Validation loss: 0.285010, Time per epoch: 12.125016 seconds\n",
      "Epoch 6. Training loss: 0.294726, Validation loss: 0.285633, Time per epoch: 11.891855 seconds\n",
      "Epoch 7. Training loss: 0.287484, Validation loss: 0.290459, Time per epoch: 11.677632 seconds\n",
      "Epoch 8. Training loss: 0.285409, Validation loss: 0.278310, Time per epoch: 11.845880 seconds\n",
      "Epoch 9. Training loss: 0.284188, Validation loss: 0.298850, Time per epoch: 11.789668 seconds\n"
     ]
    }
   ],
   "source": [
    "clean_multi_lr.trainloop(trainloader,validloader)"
   ]
  },
  {
   "cell_type": "code",
   "execution_count": null,
   "metadata": {
    "colab": {
     "base_uri": "https://localhost:8080/",
     "height": 330
    },
    "colab_type": "code",
    "executionInfo": {
     "elapsed": 14426,
     "status": "ok",
     "timestamp": 1587725290735,
     "user": {
      "displayName": "Santi Palmero Muñoz",
      "photoUrl": "",
      "userId": "16691478082819066260"
     },
     "user_tz": -120
    },
    "id": "Vjry99TPSEMY",
    "outputId": "96bc3481-0abf-412e-a0bf-a405786799de"
   },
   "outputs": [
    {
     "name": "stdout",
     "output_type": "stream",
     "text": [
      "Train Accuracy 0.916937\n",
      "Validation Accuracy 0.914312\n",
      "Test Accuracy 0.915506\n"
     ]
    },
    {
     "data": {
      "image/png": "[encoded data removed]",
      "text/plain": [
       "<Figure size 432x288 with 1 Axes>"
      ]
     },
     "metadata": {
      "needs_background": "light",
      "tags": []
     },
     "output_type": "display_data"
    }
   ],
   "source": [
    "eval_model_performance(clean_multi_lr, trainloader, validloader, testloader)"
   ]
  },
  {
   "cell_type": "markdown",
   "metadata": {
    "colab_type": "text",
    "id": "XEK6mK3lSGYU"
   },
   "source": [
    " ### MLP\n"
   ]
  },
  {
   "cell_type": "code",
   "execution_count": null,
   "metadata": {
    "colab": {
     "base_uri": "https://localhost:8080/",
     "height": 187
    },
    "colab_type": "code",
    "executionInfo": {
     "elapsed": 835,
     "status": "ok",
     "timestamp": 1587724182614,
     "user": {
      "displayName": "Santi Palmero Muñoz",
      "photoUrl": "",
      "userId": "16691478082819066260"
     },
     "user_tz": -120
    },
    "id": "vQkTFb6UUQF7",
    "outputId": "8a66c387-d59e-4487-ce17-caed5aaf85e6"
   },
   "outputs": [
    {
     "name": "stdout",
     "output_type": "stream",
     "text": [
      "ExtendedMLP(\n",
      "  (output1): Linear(in_features=784, out_features=256, bias=True)\n",
      "  (output2): Linear(in_features=256, out_features=128, bias=True)\n",
      "  (output3): Linear(in_features=128, out_features=64, bias=True)\n",
      "  (output4): Linear(in_features=64, out_features=10, bias=True)\n",
      "  (relu): ReLU()\n",
      "  (logsoftmax): LogSoftmax()\n",
      "  (dropout): Dropout(p=0.2, inplace=False)\n",
      "  (criterion): NLLLoss()\n",
      ")\n"
     ]
    }
   ],
   "source": [
    "clean_mlp = ExtendedMLP(dimx=784, hidden1=256, hidden2=128, hidden3=64,\n",
    "                        nlabels=10, epochs=30, lr=1e-3)\n",
    "print(clean_mlp)"
   ]
  },
  {
   "cell_type": "code",
   "execution_count": null,
   "metadata": {
    "colab": {
     "base_uri": "https://localhost:8080/",
     "height": 527
    },
    "colab_type": "code",
    "executionInfo": {
     "elapsed": 412148,
     "status": "ok",
     "timestamp": 1587724597470,
     "user": {
      "displayName": "Santi Palmero Muñoz",
      "photoUrl": "",
      "userId": "16691478082819066260"
     },
     "user_tz": -120
    },
    "id": "VMO-EdH1U4aH",
    "outputId": "ea75ac14-70b5-41bd-a991-e3026ab91653"
   },
   "outputs": [
    {
     "name": "stdout",
     "output_type": "stream",
     "text": [
      "Epoch 0. Training loss: 0.520144, Validation loss: 0.258292, Time per epoch: 13.644447 seconds\n",
      "Epoch 1. Training loss: 0.250766, Validation loss: 0.146250, Time per epoch: 13.647844 seconds\n",
      "Epoch 2. Training loss: 0.205711, Validation loss: 0.127898, Time per epoch: 13.220595 seconds\n",
      "Epoch 3. Training loss: 0.180186, Validation loss: 0.124660, Time per epoch: 13.569154 seconds\n",
      "Epoch 4. Training loss: 0.155448, Validation loss: 0.121818, Time per epoch: 13.919480 seconds\n",
      "Epoch 5. Training loss: 0.146277, Validation loss: 0.111396, Time per epoch: 13.319832 seconds\n",
      "Epoch 6. Training loss: 0.134228, Validation loss: 0.104530, Time per epoch: 14.087702 seconds\n",
      "Epoch 7. Training loss: 0.124425, Validation loss: 0.097120, Time per epoch: 13.052141 seconds\n",
      "Epoch 8. Training loss: 0.116050, Validation loss: 0.104156, Time per epoch: 13.951743 seconds\n",
      "Epoch 9. Training loss: 0.113223, Validation loss: 0.103609, Time per epoch: 13.666603 seconds\n",
      "Epoch 10. Training loss: 0.103889, Validation loss: 0.095264, Time per epoch: 13.881362 seconds\n",
      "Epoch 11. Training loss: 0.102157, Validation loss: 0.094989, Time per epoch: 14.255852 seconds\n",
      "Epoch 12. Training loss: 0.102974, Validation loss: 0.090692, Time per epoch: 13.896434 seconds\n",
      "Epoch 13. Training loss: 0.092098, Validation loss: 0.093537, Time per epoch: 13.478047 seconds\n",
      "Epoch 14. Training loss: 0.093162, Validation loss: 0.089404, Time per epoch: 14.053623 seconds\n",
      "Epoch 15. Training loss: 0.088263, Validation loss: 0.097723, Time per epoch: 13.447336 seconds\n",
      "Epoch 16. Training loss: 0.088020, Validation loss: 0.088673, Time per epoch: 13.561749 seconds\n",
      "Epoch 17. Training loss: 0.086916, Validation loss: 0.092812, Time per epoch: 13.627795 seconds\n",
      "Epoch 18. Training loss: 0.080962, Validation loss: 0.096547, Time per epoch: 13.548674 seconds\n",
      "Epoch 19. Training loss: 0.079737, Validation loss: 0.105875, Time per epoch: 13.788002 seconds\n",
      "Epoch 20. Training loss: 0.080931, Validation loss: 0.097618, Time per epoch: 13.347612 seconds\n",
      "Epoch 21. Training loss: 0.075759, Validation loss: 0.088440, Time per epoch: 13.806941 seconds\n",
      "Epoch 22. Training loss: 0.076232, Validation loss: 0.080927, Time per epoch: 13.264054 seconds\n",
      "Epoch 23. Training loss: 0.070270, Validation loss: 0.089158, Time per epoch: 13.953595 seconds\n",
      "Epoch 24. Training loss: 0.077365, Validation loss: 0.089996, Time per epoch: 13.770359 seconds\n",
      "Epoch 25. Training loss: 0.069008, Validation loss: 0.086410, Time per epoch: 13.912963 seconds\n",
      "Epoch 26. Training loss: 0.067359, Validation loss: 0.086227, Time per epoch: 14.172909 seconds\n",
      "Epoch 27. Training loss: 0.068807, Validation loss: 0.084160, Time per epoch: 13.803687 seconds\n",
      "Epoch 28. Training loss: 0.065104, Validation loss: 0.096182, Time per epoch: 13.945173 seconds\n",
      "Epoch 29. Training loss: 0.065485, Validation loss: 0.082769, Time per epoch: 13.634316 seconds\n"
     ]
    }
   ],
   "source": [
    "clean_mlp.trainloop(trainloader, validloader)"
   ]
  },
  {
   "cell_type": "code",
   "execution_count": null,
   "metadata": {
    "colab": {
     "base_uri": "https://localhost:8080/",
     "height": 330
    },
    "colab_type": "code",
    "executionInfo": {
     "elapsed": 14947,
     "status": "ok",
     "timestamp": 1587725323071,
     "user": {
      "displayName": "Santi Palmero Muñoz",
      "photoUrl": "",
      "userId": "16691478082819066260"
     },
     "user_tz": -120
    },
    "id": "qn_NogI5VBIr",
    "outputId": "9e4fbf4b-7ca6-4e3f-fc3e-1a04d55fc266"
   },
   "outputs": [
    {
     "name": "stdout",
     "output_type": "stream",
     "text": [
      "Train Accuracy 0.994146\n",
      "Validation Accuracy 0.978890\n",
      "Test Accuracy 0.978901\n"
     ]
    },
    {
     "data": {
      "image/png": "[encoded data removed]",
      "text/plain": [
       "<Figure size 432x288 with 1 Axes>"
      ]
     },
     "metadata": {
      "needs_background": "light",
      "tags": []
     },
     "output_type": "display_data"
    }
   ],
   "source": [
    "eval_model_performance(clean_mlp, trainloader, validloader, testloader)"
   ]
  },
  {
   "cell_type": "markdown",
   "metadata": {
    "colab_type": "text",
    "id": "_nKsFlf_QsgD"
   },
   "source": [
    "### Lenet5\n"
   ]
  },
  {
   "cell_type": "code",
   "execution_count": null,
   "metadata": {
    "colab": {
     "base_uri": "https://localhost:8080/",
     "height": 255
    },
    "colab_type": "code",
    "executionInfo": {
     "elapsed": 14455,
     "status": "ok",
     "timestamp": 1587724611979,
     "user": {
      "displayName": "Santi Palmero Muñoz",
      "photoUrl": "",
      "userId": "16691478082819066260"
     },
     "user_tz": -120
    },
    "id": "QXGDSppmQqgg",
    "outputId": "1921ff1e-00a7-4fbd-f558-812dffbbf3f9"
   },
   "outputs": [
    {
     "name": "stdout",
     "output_type": "stream",
     "text": [
      "ExtendedLenet5(\n",
      "  (conv1): Conv2d(1, 6, kernel_size=(5, 5), stride=(1, 1))\n",
      "  (conv2): Conv2d(6, 16, kernel_size=(5, 5), stride=(1, 1))\n",
      "  (pool): MaxPool2d(kernel_size=2, stride=2, padding=0, dilation=1, ceil_mode=False)\n",
      "  (output1): Linear(in_features=256, out_features=120, bias=True)\n",
      "  (output2): Linear(in_features=120, out_features=84, bias=True)\n",
      "  (output3): Linear(in_features=84, out_features=10, bias=True)\n",
      "  (relu): ReLU()\n",
      "  (logsoftmax): LogSoftmax()\n",
      "  (dropout): Dropout(p=0.4, inplace=False)\n",
      "  (batch_norm1): BatchNorm2d(6, eps=1e-05, momentum=0.1, affine=True, track_running_stats=True)\n",
      "  (batch_norm2): BatchNorm2d(16, eps=1e-05, momentum=0.1, affine=True, track_running_stats=True)\n",
      "  (criterion): NLLLoss()\n",
      ")\n"
     ]
    }
   ],
   "source": [
    "clean_lenet5 = ExtendedLenet5(dimx=28, nlabels=10, epochs=10, use_batch_norm=True)\n",
    "print(clean_lenet5)"
   ]
  },
  {
   "cell_type": "code",
   "execution_count": null,
   "metadata": {
    "colab": {
     "base_uri": "https://localhost:8080/",
     "height": 187
    },
    "colab_type": "code",
    "executionInfo": {
     "elapsed": 167998,
     "status": "ok",
     "timestamp": 1587724765543,
     "user": {
      "displayName": "Santi Palmero Muñoz",
      "photoUrl": "",
      "userId": "16691478082819066260"
     },
     "user_tz": -120
    },
    "id": "3xn6mGGqRVg2",
    "outputId": "da8ca3dd-910d-43c0-a5e7-cd9f876a3e79"
   },
   "outputs": [
    {
     "name": "stdout",
     "output_type": "stream",
     "text": [
      "Epoch 0. Training loss: 0.358584, Validation loss: 0.073618, Time per epoch: 15.360969 seconds\n",
      "Epoch 1. Training loss: 0.112226, Validation loss: 0.054695, Time per epoch: 15.558482 seconds\n",
      "Epoch 2. Training loss: 0.087102, Validation loss: 0.054843, Time per epoch: 15.600821 seconds\n",
      "Epoch 3. Training loss: 0.073142, Validation loss: 0.045445, Time per epoch: 15.297146 seconds\n",
      "Epoch 4. Training loss: 0.065182, Validation loss: 0.042147, Time per epoch: 14.809301 seconds\n",
      "Epoch 5. Training loss: 0.061437, Validation loss: 0.042355, Time per epoch: 15.275895 seconds\n",
      "Epoch 6. Training loss: 0.053820, Validation loss: 0.040725, Time per epoch: 15.791808 seconds\n",
      "Epoch 7. Training loss: 0.049961, Validation loss: 0.041437, Time per epoch: 15.231679 seconds\n",
      "Epoch 8. Training loss: 0.046635, Validation loss: 0.046218, Time per epoch: 15.016274 seconds\n",
      "Epoch 9. Training loss: 0.042506, Validation loss: 0.043177, Time per epoch: 15.456232 seconds\n"
     ]
    }
   ],
   "source": [
    "clean_lenet5.trainloop(trainloader,validloader)"
   ]
  },
  {
   "cell_type": "code",
   "execution_count": null,
   "metadata": {
    "colab": {
     "base_uri": "https://localhost:8080/",
     "height": 330
    },
    "colab_type": "code",
    "executionInfo": {
     "elapsed": 15466,
     "status": "ok",
     "timestamp": 1587725350269,
     "user": {
      "displayName": "Santi Palmero Muñoz",
      "photoUrl": "",
      "userId": "16691478082819066260"
     },
     "user_tz": -120
    },
    "id": "EFTEg8rIRbzS",
    "outputId": "db53ea30-b28e-4a4f-f2b0-4166e417f3a1"
   },
   "outputs": [
    {
     "name": "stdout",
     "output_type": "stream",
     "text": [
      "Train Accuracy 0.994833\n",
      "Validation Accuracy 0.987201\n",
      "Test Accuracy 0.989451\n"
     ]
    },
    {
     "data": {
      "image/png": "[encoded data removed]",
      "text/plain": [
       "<Figure size 432x288 with 1 Axes>"
      ]
     },
     "metadata": {
      "needs_background": "light",
      "tags": []
     },
     "output_type": "display_data"
    }
   ],
   "source": [
    "eval_model_performance(clean_lenet5, trainloader, validloader, testloader)"
   ]
  },
  {
   "cell_type": "markdown",
   "metadata": {
    "colab_type": "text",
    "id": "Ge5SqGC4RWFY"
   },
   "source": [
    "## Transformed MNIST evaluation\n",
    "Half of the instances have been transformed by inverting their colors.\n",
    "\n",
    "\n"
   ]
  },
  {
   "cell_type": "code",
   "execution_count": null,
   "metadata": {
    "colab": {},
    "colab_type": "code",
    "id": "GoySjmZm3ksU"
   },
   "outputs": [],
   "source": [
    "class CustomDataset(Dataset):\n",
    "    \"\"\"Pytorch dataset extension.\n",
    "\n",
    "    This module allows to transform a set of data and targets numpy variables \n",
    "    into a pytorch dataset.\n",
    "    \"\"\"\n",
    "    def __init__(self, data, targets, transform=None):\n",
    "        self.data = data\n",
    "        self.targets = torch.LongTensor(targets)\n",
    "        self.transform = transform\n",
    "\n",
    "    def __getitem__(self, index):\n",
    "        x = self.data[index]\n",
    "        y = self.targets[index]\n",
    "\n",
    "        if self.transform:\n",
    "            x = Image.fromarray(self.data[index].astype(np.uint8))\n",
    "            x = self.transform(x)\n",
    "\n",
    "        return x, y\n",
    "\n",
    "    def __len__(self):\n",
    "        return len(self.data)\n",
    "\n",
    "TRANSFORMED_DATA_PATH = join(GIT_REPOSITORY_PATH, \n",
    "                             \"exp1/output_data_transformer/\")\n",
    "\n",
    "# Loading the data\n",
    "x_train = np.load(join(TRANSFORMED_DATA_PATH, \"mnist_x_train_tr_neg.npy\"))\n",
    "y_train = np.load(join(TRANSFORMED_DATA_PATH, \"mnist_y_train_tr.npy\"))\n",
    "\n",
    "x_test = np.load(join(TRANSFORMED_DATA_PATH, \"mnist_x_test_tr_neg.npy\"))\n",
    "y_test = np.load(join(TRANSFORMED_DATA_PATH, \"mnist_y_test_tr.npy\"))\n",
    "\n",
    "# Need to be reshaped\n",
    "#x_train = x_train.reshape(60000, 1, 28, 28)\n",
    "#x_test = x_test.reshape(10000, 1, 28, 28)\n",
    "\n",
    "# Transform into pytorch datasets\n",
    "trainset = CustomDataset(x_train, y_train, transform=transform)\n",
    "testset = CustomDataset(x_test, y_test, transform=transform)\n",
    "\n",
    "# Transform into pytorch loaders\n",
    "trainloader = torch.utils.data.DataLoader(trainset, batch_size=64, shuffle=True)\n",
    "testloader = torch.utils.data.DataLoader(testset, batch_size=64, shuffle=True)\n",
    "\n",
    "# Splitting training dataset into train and validation\n",
    "last_train_index = int(len(trainloader.dataset.data) * 0.8)\n",
    "\n",
    "validloader = copy.deepcopy(trainloader)  # Creates a copy of the object \n",
    "\n",
    "trainloader.dataset.data = trainloader.dataset.data[:last_train_index,:,:]\n",
    "trainloader.dataset.targets = trainloader.dataset.targets[:last_train_index]\n",
    "\n",
    "validloader.dataset.data = validloader.dataset.data[last_train_index:,:,:]\n",
    "validloader.dataset.targets = validloader.dataset.targets[last_train_index:]"
   ]
  },
  {
   "cell_type": "code",
   "execution_count": null,
   "metadata": {
    "colab": {
     "base_uri": "https://localhost:8080/",
     "height": 430
    },
    "colab_type": "code",
    "executionInfo": {
     "elapsed": 3752,
     "status": "ok",
     "timestamp": 1587725470210,
     "user": {
      "displayName": "Santi Palmero Muñoz",
      "photoUrl": "",
      "userId": "16691478082819066260"
     },
     "user_tz": -120
    },
    "id": "mFdBMuE265T_",
    "outputId": "72fd2b53-3ff5-48b5-fcfc-2e58b7d5b753"
   },
   "outputs": [
    {
     "data": {
      "image/png": "[encoded data removed]",
      "text/plain": [
       "<Figure size 432x432 with 16 Axes>"
      ]
     },
     "metadata": {
      "needs_background": "light",
      "tags": []
     },
     "output_type": "display_data"
    }
   ],
   "source": [
    "# Create iterable of train loader and load a chunk\n",
    "dataiter = iter(trainloader)\n",
    "images, labels = dataiter.next()\n",
    "\n",
    "# Plots several example in a grid nrows*ncols\n",
    "nrows = 4\n",
    "ncols = 4\n",
    "num_samples_drawn = int(nrows * ncols)\n",
    "\n",
    "fig, ax = plt.subplots(nrows, ncols, figsize=(6, 6))\n",
    "\n",
    "i = 0\n",
    "for row in range(nrows):\n",
    "    for col in range(ncols):\n",
    "        img = images[i].numpy().reshape([28,28])  \n",
    "        ax[row][col].imshow(img, cmap=\"Greys\")\n",
    "        fig.show()\n",
    "        ax[row][col].set_title(\"label: {}\".format(labels[i]))\n",
    "        i += 1\n",
    "fig.tight_layout(rect=[0, 0.03, 1, 0.95]) # fix for suptitle \n",
    "plt.suptitle(\"Transformed MNIST train set\", fontsize=14)\n",
    "plt.show()"
   ]
  },
  {
   "cell_type": "markdown",
   "metadata": {
    "colab_type": "text",
    "id": "qqNHN3PbvNTo"
   },
   "source": [
    "### Testing performance of clean models\n",
    "#### Multi LR"
   ]
  },
  {
   "cell_type": "code",
   "execution_count": null,
   "metadata": {
    "colab": {
     "base_uri": "https://localhost:8080/",
     "height": 330
    },
    "colab_type": "code",
    "executionInfo": {
     "elapsed": 14795,
     "status": "ok",
     "timestamp": 1587726358399,
     "user": {
      "displayName": "Santi Palmero Muñoz",
      "photoUrl": "",
      "userId": "16691478082819066260"
     },
     "user_tz": -120
    },
    "id": "Zu9b2BP0vePp",
    "outputId": "ed48fa32-96cc-4ec9-d1b8-34f9c36666a4"
   },
   "outputs": [
    {
     "name": "stdout",
     "output_type": "stream",
     "text": [
      "Train Accuracy 0.458\n",
      "Validation Accuracy 0.462\n",
      "Test Accuracy 0.458\n"
     ]
    },
    {
     "data": {
      "image/png": "[encoded data removed]",
      "text/plain": [
       "<Figure size 432x288 with 1 Axes>"
      ]
     },
     "metadata": {
      "needs_background": "light",
      "tags": []
     },
     "output_type": "display_data"
    }
   ],
   "source": [
    "eval_model_performance(clean_multi_lr, trainloader, validloader, testloader)"
   ]
  },
  {
   "cell_type": "markdown",
   "metadata": {
    "colab_type": "text",
    "id": "apGJBIvGvguv"
   },
   "source": [
    "#### MLP "
   ]
  },
  {
   "cell_type": "code",
   "execution_count": null,
   "metadata": {
    "colab": {
     "base_uri": "https://localhost:8080/",
     "height": 330
    },
    "colab_type": "code",
    "executionInfo": {
     "elapsed": 14630,
     "status": "ok",
     "timestamp": 1587726378112,
     "user": {
      "displayName": "Santi Palmero Muñoz",
      "photoUrl": "",
      "userId": "16691478082819066260"
     },
     "user_tz": -120
    },
    "id": "X5kK0gVevgE7",
    "outputId": "a5a59d37-fd94-4778-c3e1-ffcc9ce00d7a"
   },
   "outputs": [
    {
     "name": "stdout",
     "output_type": "stream",
     "text": [
      "Train Accuracy 0.500\n",
      "Validation Accuracy 0.502\n",
      "Test Accuracy 0.495\n"
     ]
    },
    {
     "data": {
      "image/png": "[encoded data removed]",
      "text/plain": [
       "<Figure size 432x288 with 1 Axes>"
      ]
     },
     "metadata": {
      "needs_background": "light",
      "tags": []
     },
     "output_type": "display_data"
    }
   ],
   "source": [
    "eval_model_performance(clean_mlp, trainloader, validloader, testloader)"
   ]
  },
  {
   "cell_type": "markdown",
   "metadata": {
    "colab_type": "text",
    "id": "HGgnp8NCzr9a"
   },
   "source": [
    "#### Lenet-5"
   ]
  },
  {
   "cell_type": "code",
   "execution_count": null,
   "metadata": {
    "colab": {
     "base_uri": "https://localhost:8080/",
     "height": 330
    },
    "colab_type": "code",
    "executionInfo": {
     "elapsed": 15530,
     "status": "ok",
     "timestamp": 1587726393665,
     "user": {
      "displayName": "Santi Palmero Muñoz",
      "photoUrl": "",
      "userId": "16691478082819066260"
     },
     "user_tz": -120
    },
    "id": "7ltHFFh7ztuy",
    "outputId": "7234d6c8-d4d3-4259-cfdd-a718671cc36e"
   },
   "outputs": [
    {
     "name": "stdout",
     "output_type": "stream",
     "text": [
      "Train Accuracy 0.621\n",
      "Validation Accuracy 0.621\n",
      "Test Accuracy 0.623\n"
     ]
    },
    {
     "data": {
      "image/png": "[encoded data removed]",
      "text/plain": [
       "<Figure size 432x288 with 1 Axes>"
      ]
     },
     "metadata": {
      "needs_background": "light",
      "tags": []
     },
     "output_type": "display_data"
    }
   ],
   "source": [
    "eval_model_performance(clean_lenet5, trainloader, validloader, testloader)"
   ]
  },
  {
   "cell_type": "markdown",
   "metadata": {
    "colab_type": "text",
    "id": "8eLphKpyYKAE"
   },
   "source": [
    "### Multi LR"
   ]
  },
  {
   "cell_type": "code",
   "execution_count": null,
   "metadata": {
    "colab": {
     "base_uri": "https://localhost:8080/",
     "height": 102
    },
    "colab_type": "code",
    "executionInfo": {
     "elapsed": 950,
     "status": "ok",
     "timestamp": 1587725552921,
     "user": {
      "displayName": "Santi Palmero Muñoz",
      "photoUrl": "",
      "userId": "16691478082819066260"
     },
     "user_tz": -120
    },
    "id": "POZ2bQEAYMQe",
    "outputId": "4cf3ad50-f219-4809-de5e-477c2636d8de"
   },
   "outputs": [
    {
     "name": "stdout",
     "output_type": "stream",
     "text": [
      "ExtendedMultiLR(\n",
      "  (output): Linear(in_features=784, out_features=10, bias=True)\n",
      "  (logsoftmax): LogSoftmax()\n",
      "  (criterion): NLLLoss()\n",
      ")\n"
     ]
    }
   ],
   "source": [
    "transf_multi_lr = ExtendedMultiLR(dimx=784, nlabels=10, epochs=10, lr=1e-3)\n",
    "print(transf_multi_lr)"
   ]
  },
  {
   "cell_type": "code",
   "execution_count": null,
   "metadata": {
    "colab": {
     "base_uri": "https://localhost:8080/",
     "height": 187
    },
    "colab_type": "code",
    "executionInfo": {
     "elapsed": 124155,
     "status": "ok",
     "timestamp": 1587725679599,
     "user": {
      "displayName": "Santi Palmero Muñoz",
      "photoUrl": "",
      "userId": "16691478082819066260"
     },
     "user_tz": -120
    },
    "id": "LCC592UsYKRU",
    "outputId": "2ae1d28e-bba3-4825-c97e-67a59d26c5f9"
   },
   "outputs": [
    {
     "name": "stdout",
     "output_type": "stream",
     "text": [
      "Epoch 0. Training loss: 2.368417, Validation loss: 2.356104, Time per epoch: 12.096621 seconds\n",
      "Epoch 1. Training loss: 2.352684, Validation loss: 2.331101, Time per epoch: 12.078592 seconds\n",
      "Epoch 2. Training loss: 2.346419, Validation loss: 2.393407, Time per epoch: 12.447500 seconds\n",
      "Epoch 3. Training loss: 2.344679, Validation loss: 2.345015, Time per epoch: 12.093190 seconds\n",
      "Epoch 4. Training loss: 2.347625, Validation loss: 2.361054, Time per epoch: 12.479796 seconds\n",
      "Epoch 5. Training loss: 2.340619, Validation loss: 2.381071, Time per epoch: 12.539522 seconds\n",
      "Epoch 6. Training loss: 2.341665, Validation loss: 2.390844, Time per epoch: 12.483709 seconds\n",
      "Epoch 7. Training loss: 2.342806, Validation loss: 2.397759, Time per epoch: 12.865108 seconds\n",
      "Epoch 8. Training loss: 2.338321, Validation loss: 2.374573, Time per epoch: 12.112012 seconds\n",
      "Epoch 9. Training loss: 2.339608, Validation loss: 2.364195, Time per epoch: 11.963189 seconds\n"
     ]
    }
   ],
   "source": [
    "transf_multi_lr.trainloop(trainloader,validloader)"
   ]
  },
  {
   "cell_type": "code",
   "execution_count": null,
   "metadata": {
    "colab": {
     "base_uri": "https://localhost:8080/",
     "height": 331
    },
    "colab_type": "code",
    "executionInfo": {
     "elapsed": 15489,
     "status": "ok",
     "timestamp": 1587726419106,
     "user": {
      "displayName": "Santi Palmero Muñoz",
      "photoUrl": "",
      "userId": "16691478082819066260"
     },
     "user_tz": -120
    },
    "id": "fQkTqq0fYKgh",
    "outputId": "d8e120ed-5baa-4adf-9c0b-a5bee50a07f4"
   },
   "outputs": [
    {
     "name": "stdout",
     "output_type": "stream",
     "text": [
      "Train Accuracy 0.228\n",
      "Validation Accuracy 0.196\n",
      "Test Accuracy 0.194\n"
     ]
    },
    {
     "data": {
      "image/png": "[encoded data removed]",
      "text/plain": [
       "<Figure size 432x288 with 1 Axes>"
      ]
     },
     "metadata": {
      "needs_background": "light",
      "tags": []
     },
     "output_type": "display_data"
    }
   ],
   "source": [
    "eval_model_performance(transf_multi_lr, trainloader, validloader, testloader)"
   ]
  },
  {
   "cell_type": "markdown",
   "metadata": {
    "colab_type": "text",
    "id": "6TaTX8GhYKwg"
   },
   "source": [
    "### MLP"
   ]
  },
  {
   "cell_type": "code",
   "execution_count": null,
   "metadata": {
    "colab": {
     "base_uri": "https://localhost:8080/",
     "height": 187
    },
    "colab_type": "code",
    "executionInfo": {
     "elapsed": 982,
     "status": "ok",
     "timestamp": 1587726469473,
     "user": {
      "displayName": "Santi Palmero Muñoz",
      "photoUrl": "",
      "userId": "16691478082819066260"
     },
     "user_tz": -120
    },
    "id": "pleWHOxhYNV9",
    "outputId": "c45d8da6-6e29-45de-8bd1-7afaaf5186e6"
   },
   "outputs": [
    {
     "name": "stdout",
     "output_type": "stream",
     "text": [
      "ExtendedMLP(\n",
      "  (output1): Linear(in_features=784, out_features=256, bias=True)\n",
      "  (output2): Linear(in_features=256, out_features=128, bias=True)\n",
      "  (output3): Linear(in_features=128, out_features=64, bias=True)\n",
      "  (output4): Linear(in_features=64, out_features=10, bias=True)\n",
      "  (relu): ReLU()\n",
      "  (logsoftmax): LogSoftmax()\n",
      "  (dropout): Dropout(p=0.2, inplace=False)\n",
      "  (criterion): NLLLoss()\n",
      ")\n"
     ]
    }
   ],
   "source": [
    "transf_mlp = ExtendedMLP(dimx=784, hidden1=256, hidden2=128, hidden3=64,\n",
    "                         nlabels=10, epochs=30, lr=1e-3)\n",
    "print(transf_mlp)"
   ]
  },
  {
   "cell_type": "code",
   "execution_count": null,
   "metadata": {
    "colab": {
     "base_uri": "https://localhost:8080/",
     "height": 527
    },
    "colab_type": "code",
    "executionInfo": {
     "elapsed": 411521,
     "status": "ok",
     "timestamp": 1587726881987,
     "user": {
      "displayName": "Santi Palmero Muñoz",
      "photoUrl": "",
      "userId": "16691478082819066260"
     },
     "user_tz": -120
    },
    "id": "93Ls3tUaYK9-",
    "outputId": "13deb46e-ec56-442c-c025-e7fedb8d0f68"
   },
   "outputs": [
    {
     "name": "stdout",
     "output_type": "stream",
     "text": [
      "Epoch 0. Training loss: 0.657428, Validation loss: 0.312802, Time per epoch: 13.777752 seconds\n",
      "Epoch 1. Training loss: 0.316791, Validation loss: 0.218747, Time per epoch: 13.751419 seconds\n",
      "Epoch 2. Training loss: 0.260841, Validation loss: 0.166883, Time per epoch: 13.802532 seconds\n",
      "Epoch 3. Training loss: 0.227341, Validation loss: 0.174146, Time per epoch: 13.381968 seconds\n",
      "Epoch 4. Training loss: 0.205003, Validation loss: 0.162815, Time per epoch: 13.436009 seconds\n",
      "Epoch 5. Training loss: 0.191449, Validation loss: 0.164315, Time per epoch: 13.887084 seconds\n",
      "Epoch 6. Training loss: 0.176529, Validation loss: 0.132848, Time per epoch: 13.445354 seconds\n",
      "Epoch 7. Training loss: 0.170445, Validation loss: 0.121722, Time per epoch: 13.507926 seconds\n",
      "Epoch 8. Training loss: 0.157752, Validation loss: 0.129702, Time per epoch: 13.616931 seconds\n",
      "Epoch 9. Training loss: 0.151200, Validation loss: 0.133294, Time per epoch: 13.697647 seconds\n",
      "Epoch 10. Training loss: 0.144383, Validation loss: 0.130611, Time per epoch: 13.653005 seconds\n",
      "Epoch 11. Training loss: 0.135323, Validation loss: 0.135949, Time per epoch: 13.648258 seconds\n",
      "Epoch 12. Training loss: 0.133266, Validation loss: 0.111038, Time per epoch: 14.139170 seconds\n",
      "Epoch 13. Training loss: 0.127145, Validation loss: 0.114751, Time per epoch: 13.810894 seconds\n",
      "Epoch 14. Training loss: 0.127425, Validation loss: 0.113534, Time per epoch: 13.674858 seconds\n",
      "Epoch 15. Training loss: 0.119741, Validation loss: 0.108177, Time per epoch: 13.966646 seconds\n",
      "Epoch 16. Training loss: 0.119576, Validation loss: 0.111957, Time per epoch: 13.944694 seconds\n",
      "Epoch 17. Training loss: 0.115196, Validation loss: 0.106615, Time per epoch: 13.474591 seconds\n",
      "Epoch 18. Training loss: 0.110172, Validation loss: 0.099714, Time per epoch: 13.451160 seconds\n",
      "Epoch 19. Training loss: 0.106199, Validation loss: 0.108822, Time per epoch: 13.620714 seconds\n",
      "Epoch 20. Training loss: 0.107495, Validation loss: 0.104081, Time per epoch: 13.453966 seconds\n",
      "Epoch 21. Training loss: 0.105129, Validation loss: 0.103066, Time per epoch: 13.629645 seconds\n",
      "Epoch 22. Training loss: 0.103907, Validation loss: 0.108265, Time per epoch: 13.779366 seconds\n",
      "Epoch 23. Training loss: 0.102099, Validation loss: 0.105939, Time per epoch: 13.782835 seconds\n",
      "Epoch 24. Training loss: 0.100014, Validation loss: 0.109795, Time per epoch: 13.319026 seconds\n",
      "Epoch 25. Training loss: 0.095059, Validation loss: 0.113127, Time per epoch: 13.864973 seconds\n",
      "Epoch 26. Training loss: 0.093566, Validation loss: 0.099711, Time per epoch: 14.004130 seconds\n",
      "Epoch 27. Training loss: 0.089404, Validation loss: 0.108094, Time per epoch: 13.729253 seconds\n",
      "Epoch 28. Training loss: 0.089309, Validation loss: 0.103963, Time per epoch: 13.616330 seconds\n",
      "Epoch 29. Training loss: 0.087774, Validation loss: 0.098958, Time per epoch: 13.422971 seconds\n"
     ]
    }
   ],
   "source": [
    "transf_mlp.trainloop(trainloader, validloader)"
   ]
  },
  {
   "cell_type": "code",
   "execution_count": null,
   "metadata": {
    "colab": {
     "base_uri": "https://localhost:8080/",
     "height": 330
    },
    "colab_type": "code",
    "executionInfo": {
     "elapsed": 14650,
     "status": "ok",
     "timestamp": 1587726896675,
     "user": {
      "displayName": "Santi Palmero Muñoz",
      "photoUrl": "",
      "userId": "16691478082819066260"
     },
     "user_tz": -120
    },
    "id": "-cuLDOCxYLQX",
    "outputId": "1a145281-3b28-4659-bbaa-9b05fdb156bf"
   },
   "outputs": [
    {
     "name": "stdout",
     "output_type": "stream",
     "text": [
      "Train Accuracy 0.990\n",
      "Validation Accuracy 0.973\n",
      "Test Accuracy 0.973\n"
     ]
    },
    {
     "data": {
      "image/png": "[encoded data removed]",
      "text/plain": [
       "<Figure size 432x288 with 1 Axes>"
      ]
     },
     "metadata": {
      "needs_background": "light",
      "tags": []
     },
     "output_type": "display_data"
    }
   ],
   "source": [
    "eval_model_performance(transf_mlp, trainloader, validloader, testloader)"
   ]
  },
  {
   "cell_type": "markdown",
   "metadata": {
    "colab_type": "text",
    "id": "HkKEZQcXYEoZ"
   },
   "source": [
    "### Lenet5"
   ]
  },
  {
   "cell_type": "code",
   "execution_count": null,
   "metadata": {
    "colab": {
     "base_uri": "https://localhost:8080/",
     "height": 255
    },
    "colab_type": "code",
    "executionInfo": {
     "elapsed": 1024,
     "status": "ok",
     "timestamp": 1587726898900,
     "user": {
      "displayName": "Santi Palmero Muñoz",
      "photoUrl": "",
      "userId": "16691478082819066260"
     },
     "user_tz": -120
    },
    "id": "TR4VCaYK272u",
    "outputId": "4cc0af86-c33c-45b0-ecd4-6e657a56ade1"
   },
   "outputs": [
    {
     "name": "stdout",
     "output_type": "stream",
     "text": [
      "ExtendedLenet5(\n",
      "  (conv1): Conv2d(1, 6, kernel_size=(5, 5), stride=(1, 1))\n",
      "  (conv2): Conv2d(6, 16, kernel_size=(5, 5), stride=(1, 1))\n",
      "  (pool): MaxPool2d(kernel_size=2, stride=2, padding=0, dilation=1, ceil_mode=False)\n",
      "  (output1): Linear(in_features=256, out_features=120, bias=True)\n",
      "  (output2): Linear(in_features=120, out_features=84, bias=True)\n",
      "  (output3): Linear(in_features=84, out_features=10, bias=True)\n",
      "  (relu): ReLU()\n",
      "  (logsoftmax): LogSoftmax()\n",
      "  (dropout): Dropout(p=0.4, inplace=False)\n",
      "  (batch_norm1): BatchNorm2d(6, eps=1e-05, momentum=0.1, affine=True, track_running_stats=True)\n",
      "  (batch_norm2): BatchNorm2d(16, eps=1e-05, momentum=0.1, affine=True, track_running_stats=True)\n",
      "  (criterion): NLLLoss()\n",
      ")\n"
     ]
    }
   ],
   "source": [
    "transf_lenet5 = ExtendedLenet5(dimx=28, nlabels=10, epochs=10, \n",
    "                               use_batch_norm=True)\n",
    "print(transf_lenet5)"
   ]
  },
  {
   "cell_type": "code",
   "execution_count": null,
   "metadata": {
    "colab": {
     "base_uri": "https://localhost:8080/",
     "height": 187
    },
    "colab_type": "code",
    "executionInfo": {
     "elapsed": 154678,
     "status": "ok",
     "timestamp": 1587727053612,
     "user": {
      "displayName": "Santi Palmero Muñoz",
      "photoUrl": "",
      "userId": "16691478082819066260"
     },
     "user_tz": -120
    },
    "id": "yZhfWKPHCFQo",
    "outputId": "4bb1dd11-2433-41b5-c1fc-960687426bf3"
   },
   "outputs": [
    {
     "name": "stdout",
     "output_type": "stream",
     "text": [
      "Epoch 0. Training loss: 0.444972, Validation loss: 0.112753, Time per epoch: 15.223895 seconds\n",
      "Epoch 1. Training loss: 0.133261, Validation loss: 0.078198, Time per epoch: 15.038933 seconds\n",
      "Epoch 2. Training loss: 0.105516, Validation loss: 0.065409, Time per epoch: 15.505094 seconds\n",
      "Epoch 3. Training loss: 0.090369, Validation loss: 0.066835, Time per epoch: 15.466779 seconds\n",
      "Epoch 4. Training loss: 0.078467, Validation loss: 0.056541, Time per epoch: 14.979987 seconds\n",
      "Epoch 5. Training loss: 0.075648, Validation loss: 0.055225, Time per epoch: 15.960648 seconds\n",
      "Epoch 6. Training loss: 0.067951, Validation loss: 0.059047, Time per epoch: 15.460771 seconds\n",
      "Epoch 7. Training loss: 0.062588, Validation loss: 0.060388, Time per epoch: 15.346006 seconds\n",
      "Epoch 8. Training loss: 0.058388, Validation loss: 0.062100, Time per epoch: 15.324109 seconds\n",
      "Epoch 9. Training loss: 0.056260, Validation loss: 0.052499, Time per epoch: 15.440027 seconds\n"
     ]
    }
   ],
   "source": [
    "transf_lenet5.trainloop(trainloader, validloader)"
   ]
  },
  {
   "cell_type": "code",
   "execution_count": null,
   "metadata": {
    "colab": {
     "base_uri": "https://localhost:8080/",
     "height": 330
    },
    "colab_type": "code",
    "executionInfo": {
     "elapsed": 169579,
     "status": "ok",
     "timestamp": 1587727068541,
     "user": {
      "displayName": "Santi Palmero Muñoz",
      "photoUrl": "",
      "userId": "16691478082819066260"
     },
     "user_tz": -120
    },
    "id": "60L0vmRm1z0Q",
    "outputId": "ce10dbb0-179c-46de-89ba-e7d35547e12a"
   },
   "outputs": [
    {
     "name": "stdout",
     "output_type": "stream",
     "text": [
      "Train Accuracy 0.993\n",
      "Validation Accuracy 0.987\n",
      "Test Accuracy 0.989\n"
     ]
    },
    {
     "data": {
      "image/png": "[encoded data removed]",
      "text/plain": [
       "<Figure size 432x288 with 1 Axes>"
      ]
     },
     "metadata": {
      "needs_background": "light",
      "tags": []
     },
     "output_type": "display_data"
    }
   ],
   "source": [
    "eval_model_performance(transf_lenet5, trainloader, validloader, testloader)"
   ]
  },
  {
   "cell_type": "markdown",
   "metadata": {
    "colab_type": "text",
    "id": "317GNDTfR4aL"
   },
   "source": [
    "## Aligned MNIST evaluation\n",
    "The images which were transformed by a color inversion have been domain aligned back to their original domain with CycleGAN.\n",
    "\n"
   ]
  },
  {
   "cell_type": "code",
   "execution_count": null,
   "metadata": {
    "colab": {},
    "colab_type": "code",
    "id": "DrQc5DrxR_DX"
   },
   "outputs": [],
   "source": [
    "ALIGNED_DATA_PATH = join(GIT_REPOSITORY_PATH, \n",
    "                             \"exp1/output_gan_image_loader/\")\n",
    "\n",
    "# Loading the data\n",
    "x_train = np.load(join(ALIGNED_DATA_PATH, \"mnist_x_train_aligned.npy\"))\n",
    "y_train = np.load(join(ALIGNED_DATA_PATH, \"mnist_y_train_aligned.npy\"))\n",
    "\n",
    "x_test = np.load(join(ALIGNED_DATA_PATH, \"mnist_x_test_aligned.npy\"))\n",
    "y_test = np.load(join(ALIGNED_DATA_PATH, \"mnist_y_test_aligned.npy\"))\n",
    "\n",
    "# Need to be reshaped\n",
    "# x_train = x_train.reshape(60000, 1, 28, 28)\n",
    "# x_test = x_test.reshape(10000, 1, 28, 28)\n",
    "\n",
    "# Transform into pytorch datasets\n",
    "trainset = CustomDataset(x_train, y_train, transform=transform)\n",
    "testset = CustomDataset(x_test, y_test, transform=transform)\n",
    "\n",
    "# Transform into pytorch loaders\n",
    "trainloader = torch.utils.data.DataLoader(trainset, batch_size=64, shuffle=True)\n",
    "testloader = torch.utils.data.DataLoader(testset, batch_size=64, shuffle=True)\n",
    "\n",
    "# Splitting training dataset into train and validation\n",
    "last_train_index = int(len(trainloader.dataset.data) * 0.8)\n",
    "\n",
    "validloader = copy.deepcopy(trainloader)  # Creates a copy of the object \n",
    "\n",
    "trainloader.dataset.data = trainloader.dataset.data[:last_train_index,:,:]\n",
    "trainloader.dataset.targets = trainloader.dataset.targets[:last_train_index]\n",
    "\n",
    "validloader.dataset.data = validloader.dataset.data[last_train_index:,:,:]\n",
    "validloader.dataset.targets = validloader.dataset.targets[last_train_index:]"
   ]
  },
  {
   "cell_type": "code",
   "execution_count": null,
   "metadata": {
    "colab": {
     "base_uri": "https://localhost:8080/",
     "height": 430
    },
    "colab_type": "code",
    "executionInfo": {
     "elapsed": 3810,
     "status": "ok",
     "timestamp": 1587727107194,
     "user": {
      "displayName": "Santi Palmero Muñoz",
      "photoUrl": "",
      "userId": "16691478082819066260"
     },
     "user_tz": -120
    },
    "id": "o8y3FqywSIzX",
    "outputId": "5698e6ff-2c7d-409c-b3f6-e37fe9c5dc9f"
   },
   "outputs": [
    {
     "data": {
      "image/png": "[encoded data removed]",
      "text/plain": [
       "<Figure size 432x432 with 16 Axes>"
      ]
     },
     "metadata": {
      "needs_background": "light",
      "tags": []
     },
     "output_type": "display_data"
    }
   ],
   "source": [
    "# Create iterable of train loader and load a chunk\n",
    "dataiter = iter(trainloader)\n",
    "images, labels = dataiter.next()\n",
    "\n",
    "# Plots several example in a grid nrows*ncols\n",
    "nrows = 4\n",
    "ncols = 4\n",
    "num_samples_drawn = int(nrows * ncols)\n",
    "\n",
    "fig, ax = plt.subplots(nrows, ncols, figsize=(6, 6))\n",
    "\n",
    "i = 0\n",
    "for row in range(nrows):\n",
    "    for col in range(ncols):\n",
    "        img = images[i].numpy().reshape([28,28])  \n",
    "        ax[row][col].imshow(img, cmap=\"Greys\")\n",
    "        fig.show()\n",
    "        ax[row][col].set_title(\"label: {}\".format(labels[i]))\n",
    "        i += 1\n",
    "fig.tight_layout(rect=[0, 0.03, 1, 0.95]) # fix for suptitle \n",
    "plt.suptitle(\"Aligned MNIST train set\", fontsize=14)\n",
    "plt.show()"
   ]
  },
  {
   "cell_type": "markdown",
   "metadata": {
    "colab_type": "text",
    "id": "vNWKObio4d-9"
   },
   "source": [
    "### Testing performance of clean models\n",
    "#### Multi LR"
   ]
  },
  {
   "cell_type": "code",
   "execution_count": null,
   "metadata": {
    "colab": {
     "base_uri": "https://localhost:8080/",
     "height": 330
    },
    "colab_type": "code",
    "executionInfo": {
     "elapsed": 14877,
     "status": "ok",
     "timestamp": 1587727122133,
     "user": {
      "displayName": "Santi Palmero Muñoz",
      "photoUrl": "",
      "userId": "16691478082819066260"
     },
     "user_tz": -120
    },
    "id": "cuM8r5Rh40Oy",
    "outputId": "a7855b56-9337-4008-c183-08929a81b9a5"
   },
   "outputs": [
    {
     "name": "stdout",
     "output_type": "stream",
     "text": [
      "Train Accuracy 0.914\n",
      "Validation Accuracy 0.916\n",
      "Test Accuracy 0.914\n"
     ]
    },
    {
     "data": {
      "image/png": "[encoded data removed]",
      "text/plain": [
       "<Figure size 432x288 with 1 Axes>"
      ]
     },
     "metadata": {
      "needs_background": "light",
      "tags": []
     },
     "output_type": "display_data"
    }
   ],
   "source": [
    "eval_model_performance(clean_multi_lr, trainloader, validloader, testloader)"
   ]
  },
  {
   "cell_type": "markdown",
   "metadata": {
    "colab_type": "text",
    "id": "9IDfsLhM44H4"
   },
   "source": [
    "#### MLP"
   ]
  },
  {
   "cell_type": "code",
   "execution_count": null,
   "metadata": {
    "colab": {
     "base_uri": "https://localhost:8080/",
     "height": 330
    },
    "colab_type": "code",
    "executionInfo": {
     "elapsed": 15720,
     "status": "ok",
     "timestamp": 1587727137912,
     "user": {
      "displayName": "Santi Palmero Muñoz",
      "photoUrl": "",
      "userId": "16691478082819066260"
     },
     "user_tz": -120
    },
    "id": "mlKObvZ_46DY",
    "outputId": "ef8a9c8c-5ae5-4859-e29f-211a8e5869db"
   },
   "outputs": [
    {
     "name": "stdout",
     "output_type": "stream",
     "text": [
      "Train Accuracy 0.989\n",
      "Validation Accuracy 0.990\n",
      "Test Accuracy 0.978\n"
     ]
    },
    {
     "data": {
      "image/png": "[encoded data removed]",
      "text/plain": [
       "<Figure size 432x288 with 1 Axes>"
      ]
     },
     "metadata": {
      "needs_background": "light",
      "tags": []
     },
     "output_type": "display_data"
    }
   ],
   "source": [
    "eval_model_performance(clean_mlp, trainloader, validloader, testloader)"
   ]
  },
  {
   "cell_type": "markdown",
   "metadata": {
    "colab_type": "text",
    "id": "j49fKqPl47xL"
   },
   "source": [
    "#### Lenet5"
   ]
  },
  {
   "cell_type": "code",
   "execution_count": null,
   "metadata": {
    "colab": {
     "base_uri": "https://localhost:8080/",
     "height": 330
    },
    "colab_type": "code",
    "executionInfo": {
     "elapsed": 15579,
     "status": "ok",
     "timestamp": 1587727153499,
     "user": {
      "displayName": "Santi Palmero Muñoz",
      "photoUrl": "",
      "userId": "16691478082819066260"
     },
     "user_tz": -120
    },
    "id": "Bmk1Ug-H4844",
    "outputId": "feece709-330e-46bf-bb57-19adfc3ce265"
   },
   "outputs": [
    {
     "name": "stdout",
     "output_type": "stream",
     "text": [
      "Train Accuracy 0.992\n",
      "Validation Accuracy 0.991\n",
      "Test Accuracy 0.989\n"
     ]
    },
    {
     "data": {
      "image/png": "[encoded data removed]",
      "text/plain": [
       "<Figure size 432x288 with 1 Axes>"
      ]
     },
     "metadata": {
      "needs_background": "light",
      "tags": []
     },
     "output_type": "display_data"
    }
   ],
   "source": [
    "eval_model_performance(clean_lenet5, trainloader, validloader, testloader)"
   ]
  },
  {
   "cell_type": "markdown",
   "metadata": {
    "colab_type": "text",
    "id": "7q4fcqtVSL6I"
   },
   "source": [
    "### Multi LR"
   ]
  },
  {
   "cell_type": "code",
   "execution_count": null,
   "metadata": {
    "colab": {
     "base_uri": "https://localhost:8080/",
     "height": 102
    },
    "colab_type": "code",
    "executionInfo": {
     "elapsed": 552,
     "status": "ok",
     "timestamp": 1587727154100,
     "user": {
      "displayName": "Santi Palmero Muñoz",
      "photoUrl": "",
      "userId": "16691478082819066260"
     },
     "user_tz": -120
    },
    "id": "ucxpaVrsSLpD",
    "outputId": "a1a4aeb4-4daa-4af7-d2b4-c7286ac4bec3"
   },
   "outputs": [
    {
     "name": "stdout",
     "output_type": "stream",
     "text": [
      "ExtendedMultiLR(\n",
      "  (output): Linear(in_features=784, out_features=10, bias=True)\n",
      "  (logsoftmax): LogSoftmax()\n",
      "  (criterion): NLLLoss()\n",
      ")\n"
     ]
    }
   ],
   "source": [
    "aligned_multi_lr = ExtendedMultiLR(dimx=784, nlabels=10, epochs=10, lr=1e-3)\n",
    "print(aligned_multi_lr)"
   ]
  },
  {
   "cell_type": "code",
   "execution_count": null,
   "metadata": {
    "colab": {
     "base_uri": "https://localhost:8080/",
     "height": 187
    },
    "colab_type": "code",
    "executionInfo": {
     "elapsed": 123609,
     "status": "ok",
     "timestamp": 1587727278252,
     "user": {
      "displayName": "Santi Palmero Muñoz",
      "photoUrl": "",
      "userId": "16691478082819066260"
     },
     "user_tz": -120
    },
    "id": "7H-CKHLcSQUY",
    "outputId": "d69bb15b-5e1f-4fe3-b3d4-820143477d66"
   },
   "outputs": [
    {
     "name": "stdout",
     "output_type": "stream",
     "text": [
      "Epoch 0. Training loss: 0.502344, Validation loss: 0.368036, Time per epoch: 12.156342 seconds\n",
      "Epoch 1. Training loss: 0.338181, Validation loss: 0.333726, Time per epoch: 12.252131 seconds\n",
      "Epoch 2. Training loss: 0.319052, Validation loss: 0.319812, Time per epoch: 12.387421 seconds\n",
      "Epoch 3. Training loss: 0.308438, Validation loss: 0.311257, Time per epoch: 12.404530 seconds\n",
      "Epoch 4. Training loss: 0.302018, Validation loss: 0.305772, Time per epoch: 12.672917 seconds\n",
      "Epoch 5. Training loss: 0.296119, Validation loss: 0.310751, Time per epoch: 11.759533 seconds\n",
      "Epoch 6. Training loss: 0.293194, Validation loss: 0.300124, Time per epoch: 12.782224 seconds\n",
      "Epoch 7. Training loss: 0.289155, Validation loss: 0.309969, Time per epoch: 12.022542 seconds\n",
      "Epoch 8. Training loss: 0.288806, Validation loss: 0.307659, Time per epoch: 11.991809 seconds\n",
      "Epoch 9. Training loss: 0.286032, Validation loss: 0.297219, Time per epoch: 12.294491 seconds\n"
     ]
    }
   ],
   "source": [
    "aligned_multi_lr.trainloop(trainloader,validloader)"
   ]
  },
  {
   "cell_type": "code",
   "execution_count": null,
   "metadata": {
    "colab": {
     "base_uri": "https://localhost:8080/",
     "height": 330
    },
    "colab_type": "code",
    "executionInfo": {
     "elapsed": 14482,
     "status": "ok",
     "timestamp": 1587727292757,
     "user": {
      "displayName": "Santi Palmero Muñoz",
      "photoUrl": "",
      "userId": "16691478082819066260"
     },
     "user_tz": -120
    },
    "id": "DhYaq1ip4Qjc",
    "outputId": "f5d0152c-59b3-4e75-ea4a-69eebac7e3d4"
   },
   "outputs": [
    {
     "name": "stdout",
     "output_type": "stream",
     "text": [
      "Train Accuracy 0.925\n",
      "Validation Accuracy 0.918\n",
      "Test Accuracy 0.920\n"
     ]
    },
    {
     "data": {
      "image/png": "[encoded data removed]",
      "text/plain": [
       "<Figure size 432x288 with 1 Axes>"
      ]
     },
     "metadata": {
      "needs_background": "light",
      "tags": []
     },
     "output_type": "display_data"
    }
   ],
   "source": [
    "eval_model_performance(aligned_multi_lr, trainloader, validloader, testloader)"
   ]
  },
  {
   "cell_type": "markdown",
   "metadata": {
    "colab_type": "text",
    "id": "wCAnotTNSkIW"
   },
   "source": [
    "### MLP"
   ]
  },
  {
   "cell_type": "code",
   "execution_count": null,
   "metadata": {
    "colab": {
     "base_uri": "https://localhost:8080/",
     "height": 187
    },
    "colab_type": "code",
    "executionInfo": {
     "elapsed": 891,
     "status": "ok",
     "timestamp": 1587727293671,
     "user": {
      "displayName": "Santi Palmero Muñoz",
      "photoUrl": "",
      "userId": "16691478082819066260"
     },
     "user_tz": -120
    },
    "id": "AeJr7P03Soiv",
    "outputId": "898a7384-6e12-4c9d-efd8-d3c293bf485d"
   },
   "outputs": [
    {
     "name": "stdout",
     "output_type": "stream",
     "text": [
      "ExtendedMLP(\n",
      "  (output1): Linear(in_features=784, out_features=256, bias=True)\n",
      "  (output2): Linear(in_features=256, out_features=128, bias=True)\n",
      "  (output3): Linear(in_features=128, out_features=64, bias=True)\n",
      "  (output4): Linear(in_features=64, out_features=10, bias=True)\n",
      "  (relu): ReLU()\n",
      "  (logsoftmax): LogSoftmax()\n",
      "  (dropout): Dropout(p=0.2, inplace=False)\n",
      "  (criterion): NLLLoss()\n",
      ")\n"
     ]
    }
   ],
   "source": [
    "aligned_mlp = ExtendedMLP(dimx=784, hidden1=256, hidden2=128, hidden3=64,\n",
    "                          nlabels=10, epochs=30, lr=1e-3)\n",
    "print(aligned_mlp)"
   ]
  },
  {
   "cell_type": "code",
   "execution_count": null,
   "metadata": {
    "colab": {
     "base_uri": "https://localhost:8080/",
     "height": 527
    },
    "colab_type": "code",
    "executionInfo": {
     "elapsed": 417075,
     "status": "ok",
     "timestamp": 1587727710761,
     "user": {
      "displayName": "Santi Palmero Muñoz",
      "photoUrl": "",
      "userId": "16691478082819066260"
     },
     "user_tz": -120
    },
    "id": "YqEDSuEgSqqT",
    "outputId": "11df06e4-d13f-43b8-98e1-b12c645b0566"
   },
   "outputs": [
    {
     "name": "stdout",
     "output_type": "stream",
     "text": [
      "Epoch 0. Training loss: 0.516876, Validation loss: 0.239779, Time per epoch: 14.097840 seconds\n",
      "Epoch 1. Training loss: 0.249439, Validation loss: 0.171512, Time per epoch: 13.953886 seconds\n",
      "Epoch 2. Training loss: 0.206078, Validation loss: 0.153810, Time per epoch: 13.904011 seconds\n",
      "Epoch 3. Training loss: 0.177463, Validation loss: 0.121796, Time per epoch: 13.596238 seconds\n",
      "Epoch 4. Training loss: 0.160636, Validation loss: 0.112987, Time per epoch: 13.904169 seconds\n",
      "Epoch 5. Training loss: 0.147791, Validation loss: 0.122706, Time per epoch: 13.794744 seconds\n",
      "Epoch 6. Training loss: 0.136546, Validation loss: 0.117226, Time per epoch: 13.448517 seconds\n",
      "Epoch 7. Training loss: 0.131627, Validation loss: 0.115844, Time per epoch: 14.078387 seconds\n",
      "Epoch 8. Training loss: 0.122225, Validation loss: 0.114416, Time per epoch: 13.880816 seconds\n",
      "Epoch 9. Training loss: 0.114997, Validation loss: 0.104920, Time per epoch: 13.442297 seconds\n",
      "Epoch 10. Training loss: 0.108353, Validation loss: 0.102492, Time per epoch: 13.853635 seconds\n",
      "Epoch 11. Training loss: 0.104967, Validation loss: 0.096376, Time per epoch: 14.034927 seconds\n",
      "Epoch 12. Training loss: 0.101850, Validation loss: 0.093337, Time per epoch: 13.833633 seconds\n",
      "Epoch 13. Training loss: 0.096798, Validation loss: 0.080694, Time per epoch: 13.827626 seconds\n",
      "Epoch 14. Training loss: 0.099374, Validation loss: 0.094736, Time per epoch: 13.876775 seconds\n",
      "Epoch 15. Training loss: 0.089122, Validation loss: 0.092145, Time per epoch: 14.045182 seconds\n",
      "Epoch 16. Training loss: 0.088785, Validation loss: 0.102780, Time per epoch: 14.056296 seconds\n",
      "Epoch 17. Training loss: 0.088958, Validation loss: 0.095370, Time per epoch: 13.591470 seconds\n",
      "Epoch 18. Training loss: 0.086850, Validation loss: 0.086942, Time per epoch: 14.366560 seconds\n",
      "Epoch 19. Training loss: 0.084755, Validation loss: 0.083980, Time per epoch: 14.224130 seconds\n",
      "Epoch 20. Training loss: 0.077846, Validation loss: 0.086617, Time per epoch: 13.503850 seconds\n",
      "Epoch 21. Training loss: 0.082892, Validation loss: 0.081154, Time per epoch: 13.849563 seconds\n",
      "Epoch 22. Training loss: 0.075874, Validation loss: 0.099172, Time per epoch: 13.770881 seconds\n",
      "Epoch 23. Training loss: 0.074154, Validation loss: 0.086019, Time per epoch: 13.687684 seconds\n",
      "Epoch 24. Training loss: 0.077529, Validation loss: 0.085493, Time per epoch: 14.505539 seconds\n",
      "Epoch 25. Training loss: 0.070292, Validation loss: 0.091519, Time per epoch: 14.015875 seconds\n",
      "Epoch 26. Training loss: 0.070817, Validation loss: 0.081607, Time per epoch: 13.882961 seconds\n",
      "Epoch 27. Training loss: 0.069097, Validation loss: 0.088691, Time per epoch: 13.608173 seconds\n",
      "Epoch 28. Training loss: 0.070074, Validation loss: 0.088760, Time per epoch: 14.025354 seconds\n",
      "Epoch 29. Training loss: 0.068369, Validation loss: 0.088337, Time per epoch: 13.540343 seconds\n"
     ]
    }
   ],
   "source": [
    "aligned_mlp.trainloop(trainloader, validloader)"
   ]
  },
  {
   "cell_type": "code",
   "execution_count": null,
   "metadata": {
    "colab": {
     "base_uri": "https://localhost:8080/",
     "height": 330
    },
    "colab_type": "code",
    "executionInfo": {
     "elapsed": 15137,
     "status": "ok",
     "timestamp": 1587727725915,
     "user": {
      "displayName": "Santi Palmero Muñoz",
      "photoUrl": "",
      "userId": "16691478082819066260"
     },
     "user_tz": -120
    },
    "id": "rq4MlK6iStNf",
    "outputId": "e6a23db6-e91f-44af-e665-ffb502b8cfd1"
   },
   "outputs": [
    {
     "name": "stdout",
     "output_type": "stream",
     "text": [
      "Train Accuracy 0.992\n",
      "Validation Accuracy 0.978\n",
      "Test Accuracy 0.978\n"
     ]
    },
    {
     "data": {
      "image/png": "[encoded data removed]",
      "text/plain": [
       "<Figure size 432x288 with 1 Axes>"
      ]
     },
     "metadata": {
      "needs_background": "light",
      "tags": []
     },
     "output_type": "display_data"
    }
   ],
   "source": [
    "eval_model_performance(aligned_mlp, trainloader, validloader, testloader)"
   ]
  },
  {
   "cell_type": "markdown",
   "metadata": {
    "colab_type": "text",
    "id": "kwP6phv8Svf1"
   },
   "source": [
    "### Lenet5"
   ]
  },
  {
   "cell_type": "code",
   "execution_count": null,
   "metadata": {
    "colab": {
     "base_uri": "https://localhost:8080/",
     "height": 255
    },
    "colab_type": "code",
    "executionInfo": {
     "elapsed": 1054,
     "status": "ok",
     "timestamp": 1587727726988,
     "user": {
      "displayName": "Santi Palmero Muñoz",
      "photoUrl": "",
      "userId": "16691478082819066260"
     },
     "user_tz": -120
    },
    "id": "XOKhi_IaSyq4",
    "outputId": "01b9e2b6-38b3-4751-e64c-3e811a5f5ed2"
   },
   "outputs": [
    {
     "name": "stdout",
     "output_type": "stream",
     "text": [
      "ExtendedLenet5(\n",
      "  (conv1): Conv2d(1, 6, kernel_size=(5, 5), stride=(1, 1))\n",
      "  (conv2): Conv2d(6, 16, kernel_size=(5, 5), stride=(1, 1))\n",
      "  (pool): MaxPool2d(kernel_size=2, stride=2, padding=0, dilation=1, ceil_mode=False)\n",
      "  (output1): Linear(in_features=256, out_features=120, bias=True)\n",
      "  (output2): Linear(in_features=120, out_features=84, bias=True)\n",
      "  (output3): Linear(in_features=84, out_features=10, bias=True)\n",
      "  (relu): ReLU()\n",
      "  (logsoftmax): LogSoftmax()\n",
      "  (dropout): Dropout(p=0.4, inplace=False)\n",
      "  (batch_norm1): BatchNorm2d(6, eps=1e-05, momentum=0.1, affine=True, track_running_stats=True)\n",
      "  (batch_norm2): BatchNorm2d(16, eps=1e-05, momentum=0.1, affine=True, track_running_stats=True)\n",
      "  (criterion): NLLLoss()\n",
      ")\n"
     ]
    }
   ],
   "source": [
    "aligned_lenet5 = ExtendedLenet5(dimx=28, nlabels=10, epochs=10, use_batch_norm=True)\n",
    "print(aligned_lenet5)"
   ]
  },
  {
   "cell_type": "code",
   "execution_count": null,
   "metadata": {
    "colab": {
     "base_uri": "https://localhost:8080/",
     "height": 187
    },
    "colab_type": "code",
    "executionInfo": {
     "elapsed": 155034,
     "status": "ok",
     "timestamp": 1587727882034,
     "user": {
      "displayName": "Santi Palmero Muñoz",
      "photoUrl": "",
      "userId": "16691478082819066260"
     },
     "user_tz": -120
    },
    "id": "JIG2LAzQS0O5",
    "outputId": "3f679373-3523-410a-ef98-0c92ce5f5bf0"
   },
   "outputs": [
    {
     "name": "stdout",
     "output_type": "stream",
     "text": [
      "Epoch 0. Training loss: 0.372823, Validation loss: 0.088421, Time per epoch: 15.280676 seconds\n",
      "Epoch 1. Training loss: 0.121046, Validation loss: 0.060719, Time per epoch: 15.100259 seconds\n",
      "Epoch 2. Training loss: 0.096432, Validation loss: 0.058699, Time per epoch: 15.591478 seconds\n",
      "Epoch 3. Training loss: 0.082537, Validation loss: 0.062954, Time per epoch: 15.394314 seconds\n",
      "Epoch 4. Training loss: 0.074207, Validation loss: 0.053381, Time per epoch: 15.617682 seconds\n",
      "Epoch 5. Training loss: 0.068002, Validation loss: 0.045452, Time per epoch: 15.487096 seconds\n",
      "Epoch 6. Training loss: 0.061962, Validation loss: 0.045759, Time per epoch: 15.410698 seconds\n",
      "Epoch 7. Training loss: 0.058638, Validation loss: 0.048052, Time per epoch: 15.438497 seconds\n",
      "Epoch 8. Training loss: 0.052497, Validation loss: 0.044009, Time per epoch: 14.966196 seconds\n",
      "Epoch 9. Training loss: 0.052075, Validation loss: 0.041617, Time per epoch: 15.808620 seconds\n"
     ]
    }
   ],
   "source": [
    "aligned_lenet5.trainloop(trainloader, validloader)"
   ]
  },
  {
   "cell_type": "code",
   "execution_count": null,
   "metadata": {
    "colab": {
     "base_uri": "https://localhost:8080/",
     "height": 330
    },
    "colab_type": "code",
    "executionInfo": {
     "elapsed": 15648,
     "status": "ok",
     "timestamp": 1587727897707,
     "user": {
      "displayName": "Santi Palmero Muñoz",
      "photoUrl": "",
      "userId": "16691478082819066260"
     },
     "user_tz": -120
    },
    "id": "gaQxwW7jS1v-",
    "outputId": "e42b6593-392c-4b41-c32a-f4c3e46c5592"
   },
   "outputs": [
    {
     "name": "stdout",
     "output_type": "stream",
     "text": [
      "Train Accuracy 0.994\n",
      "Validation Accuracy 0.988\n",
      "Test Accuracy 0.989\n"
     ]
    },
    {
     "data": {
      "image/png": "[encoded data removed]",
      "text/plain": [
       "<Figure size 432x288 with 1 Axes>"
      ]
     },
     "metadata": {
      "needs_background": "light",
      "tags": []
     },
     "output_type": "display_data"
    }
   ],
   "source": [
    "eval_model_performance(aligned_lenet5, trainloader, validloader, testloader)"
   ]
  }
 ],
 "metadata": {
  "accelerator": "GPU",
  "colab": {
   "authorship_tag": "ABX9TyPfGnovJLIf94wBYqiG9CXT",
   "collapsed_sections": [],
   "name": "neg_tr_evaluation.ipynb",
   "provenance": []
  },
  "kernelspec": {
   "display_name": "Python 3",
   "language": "python",
   "name": "python3"
  },
  "language_info": {
   "codemirror_mode": {
    "name": "ipython",
    "version": 3
   },
   "file_extension": ".py",
   "mimetype": "text/x-python",
   "name": "python",
   "nbconvert_exporter": "python",
   "pygments_lexer": "ipython3",
   "version": "3.7.3"
  },
  "widgets": {
   "application/vnd.jupyter.widget-state+json": {
    "001dd4db44624da095910c4275027921": {
     "model_module": "@jupyter-widgets/base",
     "model_name": "LayoutModel",
     "state": {
      "_model_module": "@jupyter-widgets/base",
      "_model_module_version": "1.2.0",
      "_model_name": "LayoutModel",
      "_view_count": null,
      "_view_module": "@jupyter-widgets/base",
      "_view_module_version": "1.2.0",
      "_view_name": "LayoutView",
      "align_content": null,
      "align_items": null,
      "align_self": null,
      "border": null,
      "bottom": null,
      "display": null,
      "flex": null,
      "flex_flow": null,
      "grid_area": null,
      "grid_auto_columns": null,
      "grid_auto_flow": null,
      "grid_auto_rows": null,
      "grid_column": null,
      "grid_gap": null,
      "grid_row": null,
      "grid_template_areas": null,
      "grid_template_columns": null,
      "grid_template_rows": null,
      "height": null,
      "justify_content": null,
      "justify_items": null,
      "left": null,
      "margin": null,
      "max_height": null,
      "max_width": null,
      "min_height": null,
      "min_width": null,
      "object_fit": null,
      "object_position": null,
      "order": null,
      "overflow": null,
      "overflow_x": null,
      "overflow_y": null,
      "padding": null,
      "right": null,
      "top": null,
      "visibility": null,
      "width": null
     }
    },
    "024edd00a86e4808bc2bf447b079165a": {
     "model_module": "@jupyter-widgets/base",
     "model_name": "LayoutModel",
     "state": {
      "_model_module": "@jupyter-widgets/base",
      "_model_module_version": "1.2.0",
      "_model_name": "LayoutModel",
      "_view_count": null,
      "_view_module": "@jupyter-widgets/base",
      "_view_module_version": "1.2.0",
      "_view_name": "LayoutView",
      "align_content": null,
      "align_items": null,
      "align_self": null,
      "border": null,
      "bottom": null,
      "display": null,
      "flex": null,
      "flex_flow": null,
      "grid_area": null,
      "grid_auto_columns": null,
      "grid_auto_flow": null,
      "grid_auto_rows": null,
      "grid_column": null,
      "grid_gap": null,
      "grid_row": null,
      "grid_template_areas": null,
      "grid_template_columns": null,
      "grid_template_rows": null,
      "height": null,
      "justify_content": null,
      "justify_items": null,
      "left": null,
      "margin": null,
      "max_height": null,
      "max_width": null,
      "min_height": null,
      "min_width": null,
      "object_fit": null,
      "object_position": null,
      "order": null,
      "overflow": null,
      "overflow_x": null,
      "overflow_y": null,
      "padding": null,
      "right": null,
      "top": null,
      "visibility": null,
      "width": null
     }
    },
    "02bf314ac8cc49d69b72fcf61a43d053": {
     "model_module": "@jupyter-widgets/base",
     "model_name": "LayoutModel",
     "state": {
      "_model_module": "@jupyter-widgets/base",
      "_model_module_version": "1.2.0",
      "_model_name": "LayoutModel",
      "_view_count": null,
      "_view_module": "@jupyter-widgets/base",
      "_view_module_version": "1.2.0",
      "_view_name": "LayoutView",
      "align_content": null,
      "align_items": null,
      "align_self": null,
      "border": null,
      "bottom": null,
      "display": null,
      "flex": null,
      "flex_flow": null,
      "grid_area": null,
      "grid_auto_columns": null,
      "grid_auto_flow": null,
      "grid_auto_rows": null,
      "grid_column": null,
      "grid_gap": null,
      "grid_row": null,
      "grid_template_areas": null,
      "grid_template_columns": null,
      "grid_template_rows": null,
      "height": null,
      "justify_content": null,
      "justify_items": null,
      "left": null,
      "margin": null,
      "max_height": null,
      "max_width": null,
      "min_height": null,
      "min_width": null,
      "object_fit": null,
      "object_position": null,
      "order": null,
      "overflow": null,
      "overflow_x": null,
      "overflow_y": null,
      "padding": null,
      "right": null,
      "top": null,
      "visibility": null,
      "width": null
     }
    },
    "077a72736cfb4457ae7a27c7477cb786": {
     "model_module": "@jupyter-widgets/base",
     "model_name": "LayoutModel",
     "state": {
      "_model_module": "@jupyter-widgets/base",
      "_model_module_version": "1.2.0",
      "_model_name": "LayoutModel",
      "_view_count": null,
      "_view_module": "@jupyter-widgets/base",
      "_view_module_version": "1.2.0",
      "_view_name": "LayoutView",
      "align_content": null,
      "align_items": null,
      "align_self": null,
      "border": null,
      "bottom": null,
      "display": null,
      "flex": null,
      "flex_flow": null,
      "grid_area": null,
      "grid_auto_columns": null,
      "grid_auto_flow": null,
      "grid_auto_rows": null,
      "grid_column": null,
      "grid_gap": null,
      "grid_row": null,
      "grid_template_areas": null,
      "grid_template_columns": null,
      "grid_template_rows": null,
      "height": null,
      "justify_content": null,
      "justify_items": null,
      "left": null,
      "margin": null,
      "max_height": null,
      "max_width": null,
      "min_height": null,
      "min_width": null,
      "object_fit": null,
      "object_position": null,
      "order": null,
      "overflow": null,
      "overflow_x": null,
      "overflow_y": null,
      "padding": null,
      "right": null,
      "top": null,
      "visibility": null,
      "width": null
     }
    },
    "103d3cbb345247609edb0ea9083421a4": {
     "model_module": "@jupyter-widgets/controls",
     "model_name": "HTMLModel",
     "state": {
      "_dom_classes": [],
      "_model_module": "@jupyter-widgets/controls",
      "_model_module_version": "1.5.0",
      "_model_name": "HTMLModel",
      "_view_count": null,
      "_view_module": "@jupyter-widgets/controls",
      "_view_module_version": "1.5.0",
      "_view_name": "HTMLView",
      "description": "",
      "description_tooltip": null,
      "layout": "IPY_MODEL_024edd00a86e4808bc2bf447b079165a",
      "placeholder": "​",
      "style": "IPY_MODEL_273f11c0c7be4ea8b04327014db02dff",
      "value": " 9920512/? [00:20&lt;00:00, 1729617.62it/s]"
     }
    },
    "11f3b93a7edb4dd5b35930132affa670": {
     "model_module": "@jupyter-widgets/base",
     "model_name": "LayoutModel",
     "state": {
      "_model_module": "@jupyter-widgets/base",
      "_model_module_version": "1.2.0",
      "_model_name": "LayoutModel",
      "_view_count": null,
      "_view_module": "@jupyter-widgets/base",
      "_view_module_version": "1.2.0",
      "_view_name": "LayoutView",
      "align_content": null,
      "align_items": null,
      "align_self": null,
      "border": null,
      "bottom": null,
      "display": null,
      "flex": null,
      "flex_flow": null,
      "grid_area": null,
      "grid_auto_columns": null,
      "grid_auto_flow": null,
      "grid_auto_rows": null,
      "grid_column": null,
      "grid_gap": null,
      "grid_row": null,
      "grid_template_areas": null,
      "grid_template_columns": null,
      "grid_template_rows": null,
      "height": null,
      "justify_content": null,
      "justify_items": null,
      "left": null,
      "margin": null,
      "max_height": null,
      "max_width": null,
      "min_height": null,
      "min_width": null,
      "object_fit": null,
      "object_position": null,
      "order": null,
      "overflow": null,
      "overflow_x": null,
      "overflow_y": null,
      "padding": null,
      "right": null,
      "top": null,
      "visibility": null,
      "width": null
     }
    },
    "1402693516a546d9853c3f1de2bf8778": {
     "model_module": "@jupyter-widgets/base",
     "model_name": "LayoutModel",
     "state": {
      "_model_module": "@jupyter-widgets/base",
      "_model_module_version": "1.2.0",
      "_model_name": "LayoutModel",
      "_view_count": null,
      "_view_module": "@jupyter-widgets/base",
      "_view_module_version": "1.2.0",
      "_view_name": "LayoutView",
      "align_content": null,
      "align_items": null,
      "align_self": null,
      "border": null,
      "bottom": null,
      "display": null,
      "flex": null,
      "flex_flow": null,
      "grid_area": null,
      "grid_auto_columns": null,
      "grid_auto_flow": null,
      "grid_auto_rows": null,
      "grid_column": null,
      "grid_gap": null,
      "grid_row": null,
      "grid_template_areas": null,
      "grid_template_columns": null,
      "grid_template_rows": null,
      "height": null,
      "justify_content": null,
      "justify_items": null,
      "left": null,
      "margin": null,
      "max_height": null,
      "max_width": null,
      "min_height": null,
      "min_width": null,
      "object_fit": null,
      "object_position": null,
      "order": null,
      "overflow": null,
      "overflow_x": null,
      "overflow_y": null,
      "padding": null,
      "right": null,
      "top": null,
      "visibility": null,
      "width": null
     }
    },
    "1692f4095f8a4f46852143751ef2192b": {
     "model_module": "@jupyter-widgets/controls",
     "model_name": "IntProgressModel",
     "state": {
      "_dom_classes": [],
      "_model_module": "@jupyter-widgets/controls",
      "_model_module_version": "1.5.0",
      "_model_name": "IntProgressModel",
      "_view_count": null,
      "_view_module": "@jupyter-widgets/controls",
      "_view_module_version": "1.5.0",
      "_view_name": "ProgressView",
      "bar_style": "info",
      "description": "",
      "description_tooltip": null,
      "layout": "IPY_MODEL_ca37239ca92a4cea97f2fb200c1fac5a",
      "max": 1,
      "min": 0,
      "orientation": "horizontal",
      "style": "IPY_MODEL_89c24c4f1c99440dbdcbcd981524b396",
      "value": 1
     }
    },
    "1bf8035b1dcc406d8fcd64e306faf107": {
     "model_module": "@jupyter-widgets/base",
     "model_name": "LayoutModel",
     "state": {
      "_model_module": "@jupyter-widgets/base",
      "_model_module_version": "1.2.0",
      "_model_name": "LayoutModel",
      "_view_count": null,
      "_view_module": "@jupyter-widgets/base",
      "_view_module_version": "1.2.0",
      "_view_name": "LayoutView",
      "align_content": null,
      "align_items": null,
      "align_self": null,
      "border": null,
      "bottom": null,
      "display": null,
      "flex": null,
      "flex_flow": null,
      "grid_area": null,
      "grid_auto_columns": null,
      "grid_auto_flow": null,
      "grid_auto_rows": null,
      "grid_column": null,
      "grid_gap": null,
      "grid_row": null,
      "grid_template_areas": null,
      "grid_template_columns": null,
      "grid_template_rows": null,
      "height": null,
      "justify_content": null,
      "justify_items": null,
      "left": null,
      "margin": null,
      "max_height": null,
      "max_width": null,
      "min_height": null,
      "min_width": null,
      "object_fit": null,
      "object_position": null,
      "order": null,
      "overflow": null,
      "overflow_x": null,
      "overflow_y": null,
      "padding": null,
      "right": null,
      "top": null,
      "visibility": null,
      "width": null
     }
    },
    "273593305a584c4c9dbdb89fb1088e09": {
     "model_module": "@jupyter-widgets/controls",
     "model_name": "ProgressStyleModel",
     "state": {
      "_model_module": "@jupyter-widgets/controls",
      "_model_module_version": "1.5.0",
      "_model_name": "ProgressStyleModel",
      "_view_count": null,
      "_view_module": "@jupyter-widgets/base",
      "_view_module_version": "1.2.0",
      "_view_name": "StyleView",
      "bar_color": null,
      "description_width": "initial"
     }
    },
    "273f11c0c7be4ea8b04327014db02dff": {
     "model_module": "@jupyter-widgets/controls",
     "model_name": "DescriptionStyleModel",
     "state": {
      "_model_module": "@jupyter-widgets/controls",
      "_model_module_version": "1.5.0",
      "_model_name": "DescriptionStyleModel",
      "_view_count": null,
      "_view_module": "@jupyter-widgets/base",
      "_view_module_version": "1.2.0",
      "_view_name": "StyleView",
      "description_width": ""
     }
    },
    "2d2f4950ef054d4f8031bfd29caf8857": {
     "model_module": "@jupyter-widgets/controls",
     "model_name": "ProgressStyleModel",
     "state": {
      "_model_module": "@jupyter-widgets/controls",
      "_model_module_version": "1.5.0",
      "_model_name": "ProgressStyleModel",
      "_view_count": null,
      "_view_module": "@jupyter-widgets/base",
      "_view_module_version": "1.2.0",
      "_view_name": "StyleView",
      "bar_color": null,
      "description_width": "initial"
     }
    },
    "30b0f52c8c924ca5af1e7e4078ea6847": {
     "model_module": "@jupyter-widgets/controls",
     "model_name": "HBoxModel",
     "state": {
      "_dom_classes": [],
      "_model_module": "@jupyter-widgets/controls",
      "_model_module_version": "1.5.0",
      "_model_name": "HBoxModel",
      "_view_count": null,
      "_view_module": "@jupyter-widgets/controls",
      "_view_module_version": "1.5.0",
      "_view_name": "HBoxView",
      "box_style": "",
      "children": [
       "IPY_MODEL_55bee7df9ee0441db8653280278dce72",
       "IPY_MODEL_68e3014b707e46d7b443d7396ac12255"
      ],
      "layout": "IPY_MODEL_bb0a17f8a0084c67b186e1d80cd61114"
     }
    },
    "55bee7df9ee0441db8653280278dce72": {
     "model_module": "@jupyter-widgets/controls",
     "model_name": "IntProgressModel",
     "state": {
      "_dom_classes": [],
      "_model_module": "@jupyter-widgets/controls",
      "_model_module_version": "1.5.0",
      "_model_name": "IntProgressModel",
      "_view_count": null,
      "_view_module": "@jupyter-widgets/controls",
      "_view_module_version": "1.5.0",
      "_view_name": "ProgressView",
      "bar_style": "info",
      "description": "  0%",
      "description_tooltip": null,
      "layout": "IPY_MODEL_8372fc9b0eff43a2a2e4e8376e63d0cd",
      "max": 1,
      "min": 0,
      "orientation": "horizontal",
      "style": "IPY_MODEL_2d2f4950ef054d4f8031bfd29caf8857",
      "value": 0
     }
    },
    "57142da387cc46a9bddf1c708a8102d4": {
     "model_module": "@jupyter-widgets/controls",
     "model_name": "HBoxModel",
     "state": {
      "_dom_classes": [],
      "_model_module": "@jupyter-widgets/controls",
      "_model_module_version": "1.5.0",
      "_model_name": "HBoxModel",
      "_view_count": null,
      "_view_module": "@jupyter-widgets/controls",
      "_view_module_version": "1.5.0",
      "_view_name": "HBoxView",
      "box_style": "",
      "children": [
       "IPY_MODEL_966fb234802b412cb9020d2f02e2a254",
       "IPY_MODEL_e6fc056ebbee4383a0fc1d15f9e43b98"
      ],
      "layout": "IPY_MODEL_077a72736cfb4457ae7a27c7477cb786"
     }
    },
    "615a5304331c4f1d82edf0a441f7736c": {
     "model_module": "@jupyter-widgets/base",
     "model_name": "LayoutModel",
     "state": {
      "_model_module": "@jupyter-widgets/base",
      "_model_module_version": "1.2.0",
      "_model_name": "LayoutModel",
      "_view_count": null,
      "_view_module": "@jupyter-widgets/base",
      "_view_module_version": "1.2.0",
      "_view_name": "LayoutView",
      "align_content": null,
      "align_items": null,
      "align_self": null,
      "border": null,
      "bottom": null,
      "display": null,
      "flex": null,
      "flex_flow": null,
      "grid_area": null,
      "grid_auto_columns": null,
      "grid_auto_flow": null,
      "grid_auto_rows": null,
      "grid_column": null,
      "grid_gap": null,
      "grid_row": null,
      "grid_template_areas": null,
      "grid_template_columns": null,
      "grid_template_rows": null,
      "height": null,
      "justify_content": null,
      "justify_items": null,
      "left": null,
      "margin": null,
      "max_height": null,
      "max_width": null,
      "min_height": null,
      "min_width": null,
      "object_fit": null,
      "object_position": null,
      "order": null,
      "overflow": null,
      "overflow_x": null,
      "overflow_y": null,
      "padding": null,
      "right": null,
      "top": null,
      "visibility": null,
      "width": null
     }
    },
    "6317fe64d70a4d1cad303c3ff44a4c0a": {
     "model_module": "@jupyter-widgets/controls",
     "model_name": "HBoxModel",
     "state": {
      "_dom_classes": [],
      "_model_module": "@jupyter-widgets/controls",
      "_model_module_version": "1.5.0",
      "_model_name": "HBoxModel",
      "_view_count": null,
      "_view_module": "@jupyter-widgets/controls",
      "_view_module_version": "1.5.0",
      "_view_name": "HBoxView",
      "box_style": "",
      "children": [
       "IPY_MODEL_1692f4095f8a4f46852143751ef2192b",
       "IPY_MODEL_103d3cbb345247609edb0ea9083421a4"
      ],
      "layout": "IPY_MODEL_02bf314ac8cc49d69b72fcf61a43d053"
     }
    },
    "65995cd73d4e4a31a979527ad40028ec": {
     "model_module": "@jupyter-widgets/controls",
     "model_name": "DescriptionStyleModel",
     "state": {
      "_model_module": "@jupyter-widgets/controls",
      "_model_module_version": "1.5.0",
      "_model_name": "DescriptionStyleModel",
      "_view_count": null,
      "_view_module": "@jupyter-widgets/base",
      "_view_module_version": "1.2.0",
      "_view_name": "StyleView",
      "description_width": ""
     }
    },
    "68e3014b707e46d7b443d7396ac12255": {
     "model_module": "@jupyter-widgets/controls",
     "model_name": "HTMLModel",
     "state": {
      "_dom_classes": [],
      "_model_module": "@jupyter-widgets/controls",
      "_model_module_version": "1.5.0",
      "_model_name": "HTMLModel",
      "_view_count": null,
      "_view_module": "@jupyter-widgets/controls",
      "_view_module_version": "1.5.0",
      "_view_name": "HTMLView",
      "description": "",
      "description_tooltip": null,
      "layout": "IPY_MODEL_11f3b93a7edb4dd5b35930132affa670",
      "placeholder": "​",
      "style": "IPY_MODEL_9aef4f15cbe14d4581a4fddae6429b48",
      "value": " 0/4542 [00:00&lt;?, ?it/s]"
     }
    },
    "8372fc9b0eff43a2a2e4e8376e63d0cd": {
     "model_module": "@jupyter-widgets/base",
     "model_name": "LayoutModel",
     "state": {
      "_model_module": "@jupyter-widgets/base",
      "_model_module_version": "1.2.0",
      "_model_name": "LayoutModel",
      "_view_count": null,
      "_view_module": "@jupyter-widgets/base",
      "_view_module_version": "1.2.0",
      "_view_name": "LayoutView",
      "align_content": null,
      "align_items": null,
      "align_self": null,
      "border": null,
      "bottom": null,
      "display": null,
      "flex": null,
      "flex_flow": null,
      "grid_area": null,
      "grid_auto_columns": null,
      "grid_auto_flow": null,
      "grid_auto_rows": null,
      "grid_column": null,
      "grid_gap": null,
      "grid_row": null,
      "grid_template_areas": null,
      "grid_template_columns": null,
      "grid_template_rows": null,
      "height": null,
      "justify_content": null,
      "justify_items": null,
      "left": null,
      "margin": null,
      "max_height": null,
      "max_width": null,
      "min_height": null,
      "min_width": null,
      "object_fit": null,
      "object_position": null,
      "order": null,
      "overflow": null,
      "overflow_x": null,
      "overflow_y": null,
      "padding": null,
      "right": null,
      "top": null,
      "visibility": null,
      "width": null
     }
    },
    "878a3cbf9f264714af297dc3792823dc": {
     "model_module": "@jupyter-widgets/controls",
     "model_name": "DescriptionStyleModel",
     "state": {
      "_model_module": "@jupyter-widgets/controls",
      "_model_module_version": "1.5.0",
      "_model_name": "DescriptionStyleModel",
      "_view_count": null,
      "_view_module": "@jupyter-widgets/base",
      "_view_module_version": "1.2.0",
      "_view_name": "StyleView",
      "description_width": ""
     }
    },
    "89c24c4f1c99440dbdcbcd981524b396": {
     "model_module": "@jupyter-widgets/controls",
     "model_name": "ProgressStyleModel",
     "state": {
      "_model_module": "@jupyter-widgets/controls",
      "_model_module_version": "1.5.0",
      "_model_name": "ProgressStyleModel",
      "_view_count": null,
      "_view_module": "@jupyter-widgets/base",
      "_view_module_version": "1.2.0",
      "_view_name": "StyleView",
      "bar_color": null,
      "description_width": "initial"
     }
    },
    "966fb234802b412cb9020d2f02e2a254": {
     "model_module": "@jupyter-widgets/controls",
     "model_name": "IntProgressModel",
     "state": {
      "_dom_classes": [],
      "_model_module": "@jupyter-widgets/controls",
      "_model_module_version": "1.5.0",
      "_model_name": "IntProgressModel",
      "_view_count": null,
      "_view_module": "@jupyter-widgets/controls",
      "_view_module_version": "1.5.0",
      "_view_name": "ProgressView",
      "bar_style": "success",
      "description": "",
      "description_tooltip": null,
      "layout": "IPY_MODEL_1bf8035b1dcc406d8fcd64e306faf107",
      "max": 1,
      "min": 0,
      "orientation": "horizontal",
      "style": "IPY_MODEL_273593305a584c4c9dbdb89fb1088e09",
      "value": 1
     }
    },
    "9aef4f15cbe14d4581a4fddae6429b48": {
     "model_module": "@jupyter-widgets/controls",
     "model_name": "DescriptionStyleModel",
     "state": {
      "_model_module": "@jupyter-widgets/controls",
      "_model_module_version": "1.5.0",
      "_model_name": "DescriptionStyleModel",
      "_view_count": null,
      "_view_module": "@jupyter-widgets/base",
      "_view_module_version": "1.2.0",
      "_view_name": "StyleView",
      "description_width": ""
     }
    },
    "b07a3740c27146b5a914155e04642068": {
     "model_module": "@jupyter-widgets/controls",
     "model_name": "HBoxModel",
     "state": {
      "_dom_classes": [],
      "_model_module": "@jupyter-widgets/controls",
      "_model_module_version": "1.5.0",
      "_model_name": "HBoxModel",
      "_view_count": null,
      "_view_module": "@jupyter-widgets/controls",
      "_view_module_version": "1.5.0",
      "_view_name": "HBoxView",
      "box_style": "",
      "children": [
       "IPY_MODEL_cb8730c7735c4cafb939e53a23269277",
       "IPY_MODEL_f513e45c4df94eb589e303701cc7aac2"
      ],
      "layout": "IPY_MODEL_615a5304331c4f1d82edf0a441f7736c"
     }
    },
    "bb0a17f8a0084c67b186e1d80cd61114": {
     "model_module": "@jupyter-widgets/base",
     "model_name": "LayoutModel",
     "state": {
      "_model_module": "@jupyter-widgets/base",
      "_model_module_version": "1.2.0",
      "_model_name": "LayoutModel",
      "_view_count": null,
      "_view_module": "@jupyter-widgets/base",
      "_view_module_version": "1.2.0",
      "_view_name": "LayoutView",
      "align_content": null,
      "align_items": null,
      "align_self": null,
      "border": null,
      "bottom": null,
      "display": null,
      "flex": null,
      "flex_flow": null,
      "grid_area": null,
      "grid_auto_columns": null,
      "grid_auto_flow": null,
      "grid_auto_rows": null,
      "grid_column": null,
      "grid_gap": null,
      "grid_row": null,
      "grid_template_areas": null,
      "grid_template_columns": null,
      "grid_template_rows": null,
      "height": null,
      "justify_content": null,
      "justify_items": null,
      "left": null,
      "margin": null,
      "max_height": null,
      "max_width": null,
      "min_height": null,
      "min_width": null,
      "object_fit": null,
      "object_position": null,
      "order": null,
      "overflow": null,
      "overflow_x": null,
      "overflow_y": null,
      "padding": null,
      "right": null,
      "top": null,
      "visibility": null,
      "width": null
     }
    },
    "c18ce7a8a2234dc9a921d7e99346c975": {
     "model_module": "@jupyter-widgets/base",
     "model_name": "LayoutModel",
     "state": {
      "_model_module": "@jupyter-widgets/base",
      "_model_module_version": "1.2.0",
      "_model_name": "LayoutModel",
      "_view_count": null,
      "_view_module": "@jupyter-widgets/base",
      "_view_module_version": "1.2.0",
      "_view_name": "LayoutView",
      "align_content": null,
      "align_items": null,
      "align_self": null,
      "border": null,
      "bottom": null,
      "display": null,
      "flex": null,
      "flex_flow": null,
      "grid_area": null,
      "grid_auto_columns": null,
      "grid_auto_flow": null,
      "grid_auto_rows": null,
      "grid_column": null,
      "grid_gap": null,
      "grid_row": null,
      "grid_template_areas": null,
      "grid_template_columns": null,
      "grid_template_rows": null,
      "height": null,
      "justify_content": null,
      "justify_items": null,
      "left": null,
      "margin": null,
      "max_height": null,
      "max_width": null,
      "min_height": null,
      "min_width": null,
      "object_fit": null,
      "object_position": null,
      "order": null,
      "overflow": null,
      "overflow_x": null,
      "overflow_y": null,
      "padding": null,
      "right": null,
      "top": null,
      "visibility": null,
      "width": null
     }
    },
    "c5a0ce18f1d5443bb741e992cf5c5923": {
     "model_module": "@jupyter-widgets/controls",
     "model_name": "ProgressStyleModel",
     "state": {
      "_model_module": "@jupyter-widgets/controls",
      "_model_module_version": "1.5.0",
      "_model_name": "ProgressStyleModel",
      "_view_count": null,
      "_view_module": "@jupyter-widgets/base",
      "_view_module_version": "1.2.0",
      "_view_name": "StyleView",
      "bar_color": null,
      "description_width": "initial"
     }
    },
    "ca37239ca92a4cea97f2fb200c1fac5a": {
     "model_module": "@jupyter-widgets/base",
     "model_name": "LayoutModel",
     "state": {
      "_model_module": "@jupyter-widgets/base",
      "_model_module_version": "1.2.0",
      "_model_name": "LayoutModel",
      "_view_count": null,
      "_view_module": "@jupyter-widgets/base",
      "_view_module_version": "1.2.0",
      "_view_name": "LayoutView",
      "align_content": null,
      "align_items": null,
      "align_self": null,
      "border": null,
      "bottom": null,
      "display": null,
      "flex": null,
      "flex_flow": null,
      "grid_area": null,
      "grid_auto_columns": null,
      "grid_auto_flow": null,
      "grid_auto_rows": null,
      "grid_column": null,
      "grid_gap": null,
      "grid_row": null,
      "grid_template_areas": null,
      "grid_template_columns": null,
      "grid_template_rows": null,
      "height": null,
      "justify_content": null,
      "justify_items": null,
      "left": null,
      "margin": null,
      "max_height": null,
      "max_width": null,
      "min_height": null,
      "min_width": null,
      "object_fit": null,
      "object_position": null,
      "order": null,
      "overflow": null,
      "overflow_x": null,
      "overflow_y": null,
      "padding": null,
      "right": null,
      "top": null,
      "visibility": null,
      "width": null
     }
    },
    "cb8730c7735c4cafb939e53a23269277": {
     "model_module": "@jupyter-widgets/controls",
     "model_name": "IntProgressModel",
     "state": {
      "_dom_classes": [],
      "_model_module": "@jupyter-widgets/controls",
      "_model_module_version": "1.5.0",
      "_model_name": "IntProgressModel",
      "_view_count": null,
      "_view_module": "@jupyter-widgets/controls",
      "_view_module_version": "1.5.0",
      "_view_name": "ProgressView",
      "bar_style": "success",
      "description": "",
      "description_tooltip": null,
      "layout": "IPY_MODEL_1402693516a546d9853c3f1de2bf8778",
      "max": 1,
      "min": 0,
      "orientation": "horizontal",
      "style": "IPY_MODEL_c5a0ce18f1d5443bb741e992cf5c5923",
      "value": 1
     }
    },
    "e6fc056ebbee4383a0fc1d15f9e43b98": {
     "model_module": "@jupyter-widgets/controls",
     "model_name": "HTMLModel",
     "state": {
      "_dom_classes": [],
      "_model_module": "@jupyter-widgets/controls",
      "_model_module_version": "1.5.0",
      "_model_name": "HTMLModel",
      "_view_count": null,
      "_view_module": "@jupyter-widgets/controls",
      "_view_module_version": "1.5.0",
      "_view_name": "HTMLView",
      "description": "",
      "description_tooltip": null,
      "layout": "IPY_MODEL_001dd4db44624da095910c4275027921",
      "placeholder": "​",
      "style": "IPY_MODEL_878a3cbf9f264714af297dc3792823dc",
      "value": " 1654784/? [00:01&lt;00:00, 964674.64it/s]"
     }
    },
    "f513e45c4df94eb589e303701cc7aac2": {
     "model_module": "@jupyter-widgets/controls",
     "model_name": "HTMLModel",
     "state": {
      "_dom_classes": [],
      "_model_module": "@jupyter-widgets/controls",
      "_model_module_version": "1.5.0",
      "_model_name": "HTMLModel",
      "_view_count": null,
      "_view_module": "@jupyter-widgets/controls",
      "_view_module_version": "1.5.0",
      "_view_name": "HTMLView",
      "description": "",
      "description_tooltip": null,
      "layout": "IPY_MODEL_c18ce7a8a2234dc9a921d7e99346c975",
      "placeholder": "​",
      "style": "IPY_MODEL_65995cd73d4e4a31a979527ad40028ec",
      "value": " 32768/? [00:02&lt;00:00, 13689.14it/s]"
     }
    }
   }
  }
 },
 "nbformat": 4,
 "nbformat_minor": 4
}
